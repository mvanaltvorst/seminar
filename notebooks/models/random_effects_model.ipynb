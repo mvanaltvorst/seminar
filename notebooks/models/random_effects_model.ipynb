{
 "cells": [
  {
   "cell_type": "markdown",
   "metadata": {},
   "source": [
    "# Random effects model\n",
    "\n",
    "$y_{i,t} = \\alpha_i + \\beta_i x_{t-1,i} + \\gamma_i w_{t-1} + \\epsilon_{t,i}$\n",
    "\n",
    "$\\alpha_i = \\alpha_0 + \\eta_{\\alpha_i}$\n",
    "\n",
    "$\\beta_i = \\beta_0 + \\eta_{\\beta_i}$\n",
    "\n",
    "$\\gamma_i = \\gamma_0 + \\eta_{\\gamma_i}$\n",
    "\n",
    "$\\alpha_0 \\sim \\mathcal{N}(0, \\tau_\\alpha)$\n",
    "\n",
    "$\\beta_0 \\sim \\mathcal{N}(0, \\tau_\\beta)$\n",
    "\n",
    "$\\gamma_0 \\sim \\mathcal{N}(0, \\tau_\\gamma)$\n",
    "\n",
    "$\\eta_{\\alpha_i} \\sim \\mathcal{N}(0, \\tau_{\\eta_\\alpha})$\n",
    "\n",
    "$\\eta_{\\beta_i} \\sim \\mathcal{N}(0, \\tau_{\\eta_\\beta})$\n",
    "\n",
    "$\\eta_{\\gamma_i} \\sim \\mathcal{N}(0, \\tau_{\\eta_\\gamma})$\n",
    "\n",
    "$\\tau_\\alpha, \\tau_\\beta, \\tau_\\gamma, \\tau_{\\eta_\\alpha}, \\tau_{\\eta_\\beta}, \\tau_{\\eta_\\gamma} \\sim \\Gamma(1,1)$"
   ]
  },
  {
   "cell_type": "code",
   "execution_count": null,
   "metadata": {},
   "outputs": [],
   "source": [
    "import pandas as pd\n",
    "from seminartools.data import read_inflation"
   ]
  }
 ],
 "metadata": {
  "language_info": {
   "name": "python"
  }
 },
 "nbformat": 4,
 "nbformat_minor": 2
}
