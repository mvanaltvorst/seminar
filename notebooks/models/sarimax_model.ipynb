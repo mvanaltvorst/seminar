{
   "cells": [
      {
         "cell_type": "code",
         "execution_count": 1,
         "metadata": {},
         "outputs": [],
         "source": [
            "%load_ext autoreload\n",
            "%autoreload 2"
         ]
      },
      {
         "cell_type": "code",
         "execution_count": 3,
         "metadata": {},
         "outputs": [],
         "source": [
            "import pandas as pd\n",
            "from seminartools.data import read_inflation\n",
            "from seminartools.models.sarimax_model import SARIMAXModel"
         ]
      },
      {
         "cell_type": "markdown",
         "metadata": {},
         "source": [
            "# 1. Read data"
         ]
      },
      {
         "cell_type": "code",
         "execution_count": 4,
         "metadata": {},
         "outputs": [
            {
               "data": {
                  "text/html": [
                     "<div>\n",
                     "<style scoped>\n",
                     "    .dataframe tbody tr th:only-of-type {\n",
                     "        vertical-align: middle;\n",
                     "    }\n",
                     "\n",
                     "    .dataframe tbody tr th {\n",
                     "        vertical-align: top;\n",
                     "    }\n",
                     "\n",
                     "    .dataframe thead th {\n",
                     "        text-align: right;\n",
                     "    }\n",
                     "</style>\n",
                     "<table border=\"1\" class=\"dataframe\">\n",
                     "  <thead>\n",
                     "    <tr style=\"text-align: right;\">\n",
                     "      <th></th>\n",
                     "      <th>Country Code</th>\n",
                     "      <th>IMF Country Code</th>\n",
                     "      <th>Country</th>\n",
                     "      <th>yearmonth</th>\n",
                     "      <th>inflation</th>\n",
                     "    </tr>\n",
                     "  </thead>\n",
                     "  <tbody>\n",
                     "    <tr>\n",
                     "      <th>8537</th>\n",
                     "      <td>ESP</td>\n",
                     "      <td>184</td>\n",
                     "      <td>Spain</td>\n",
                     "      <td>1970-04</td>\n",
                     "      <td>0.000000</td>\n",
                     "    </tr>\n",
                     "    <tr>\n",
                     "      <th>11635</th>\n",
                     "      <td>GTM</td>\n",
                     "      <td>258</td>\n",
                     "      <td>Guatemala</td>\n",
                     "      <td>1970-04</td>\n",
                     "      <td>0.012577</td>\n",
                     "    </tr>\n",
                     "    <tr>\n",
                     "      <th>1231</th>\n",
                     "      <td>AUS</td>\n",
                     "      <td>193</td>\n",
                     "      <td>Australia</td>\n",
                     "      <td>1970-04</td>\n",
                     "      <td>0.011236</td>\n",
                     "    </tr>\n",
                     "    <tr>\n",
                     "      <th>7708</th>\n",
                     "      <td>DOM</td>\n",
                     "      <td>243</td>\n",
                     "      <td>Dominican Republic</td>\n",
                     "      <td>1970-04</td>\n",
                     "      <td>-0.001604</td>\n",
                     "    </tr>\n",
                     "    <tr>\n",
                     "      <th>21697</th>\n",
                     "      <td>NZL</td>\n",
                     "      <td>196</td>\n",
                     "      <td>New Zealand</td>\n",
                     "      <td>1970-04</td>\n",
                     "      <td>0.015421</td>\n",
                     "    </tr>\n",
                     "    <tr>\n",
                     "      <th>...</th>\n",
                     "      <td>...</td>\n",
                     "      <td>...</td>\n",
                     "      <td>...</td>\n",
                     "      <td>...</td>\n",
                     "      <td>...</td>\n",
                     "    </tr>\n",
                     "    <tr>\n",
                     "      <th>16098</th>\n",
                     "      <td>KOR</td>\n",
                     "      <td>542</td>\n",
                     "      <td>Korea, Rep.</td>\n",
                     "      <td>2023-01</td>\n",
                     "      <td>0.010538</td>\n",
                     "    </tr>\n",
                     "    <tr>\n",
                     "      <th>15095</th>\n",
                     "      <td>JPN</td>\n",
                     "      <td>158</td>\n",
                     "      <td>Japan</td>\n",
                     "      <td>2023-01</td>\n",
                     "      <td>0.004500</td>\n",
                     "    </tr>\n",
                     "    <tr>\n",
                     "      <th>14347</th>\n",
                     "      <td>ITA</td>\n",
                     "      <td>136</td>\n",
                     "      <td>Italy</td>\n",
                     "      <td>2023-01</td>\n",
                     "      <td>0.003938</td>\n",
                     "    </tr>\n",
                     "    <tr>\n",
                     "      <th>21470</th>\n",
                     "      <td>NOR</td>\n",
                     "      <td>142</td>\n",
                     "      <td>Norway</td>\n",
                     "      <td>2023-01</td>\n",
                     "      <td>0.006886</td>\n",
                     "    </tr>\n",
                     "    <tr>\n",
                     "      <th>30650</th>\n",
                     "      <td>ZAF</td>\n",
                     "      <td>199</td>\n",
                     "      <td>South Africa</td>\n",
                     "      <td>2023-01</td>\n",
                     "      <td>0.011202</td>\n",
                     "    </tr>\n",
                     "  </tbody>\n",
                     "</table>\n",
                     "<p>8480 rows × 5 columns</p>\n",
                     "</div>"
                  ],
                  "text/plain": [
                     "      Country Code  IMF Country Code             Country yearmonth  inflation\n",
                     "8537           ESP               184               Spain   1970-04   0.000000\n",
                     "11635          GTM               258           Guatemala   1970-04   0.012577\n",
                     "1231           AUS               193           Australia   1970-04   0.011236\n",
                     "7708           DOM               243  Dominican Republic   1970-04  -0.001604\n",
                     "21697          NZL               196         New Zealand   1970-04   0.015421\n",
                     "...            ...               ...                 ...       ...        ...\n",
                     "16098          KOR               542         Korea, Rep.   2023-01   0.010538\n",
                     "15095          JPN               158               Japan   2023-01   0.004500\n",
                     "14347          ITA               136               Italy   2023-01   0.003938\n",
                     "21470          NOR               142              Norway   2023-01   0.006886\n",
                     "30650          ZAF               199        South Africa   2023-01   0.011202\n",
                     "\n",
                     "[8480 rows x 5 columns]"
                  ]
               },
               "execution_count": 4,
               "metadata": {},
               "output_type": "execute_result"
            }
         ],
         "source": [
            "df_inflation = read_inflation()\n",
            "df_inflation"
         ]
      },
      {
         "cell_type": "markdown",
         "metadata": {},
         "source": [
            "# 2. AR model per country"
         ]
      },
      {
         "cell_type": "code",
         "execution_count": 6,
         "metadata": {},
         "outputs": [
            {
               "data": {
                  "text/plain": [
                     "<seminartools.models.sarimax_model.SARIMAXModel at 0x7f7e663e1250>"
                  ]
               },
               "execution_count": 6,
               "metadata": {},
               "output_type": "execute_result"
            }
         ],
         "source": [
            "model = SARIMAXModel()\n",
            "model"
         ]
      },
      {
         "cell_type": "code",
         "execution_count": 7,
         "metadata": {},
         "outputs": [
            {
               "data": {
                  "text/html": [
                     "<div>\n",
                     "<style scoped>\n",
                     "    .dataframe tbody tr th:only-of-type {\n",
                     "        vertical-align: middle;\n",
                     "    }\n",
                     "\n",
                     "    .dataframe tbody tr th {\n",
                     "        vertical-align: top;\n",
                     "    }\n",
                     "\n",
                     "    .dataframe thead th {\n",
                     "        text-align: right;\n",
                     "    }\n",
                     "</style>\n",
                     "<table border=\"1\" class=\"dataframe\">\n",
                     "  <thead>\n",
                     "    <tr style=\"text-align: right;\">\n",
                     "      <th></th>\n",
                     "      <th>Country Code</th>\n",
                     "      <th>IMF Country Code</th>\n",
                     "      <th>Country</th>\n",
                     "      <th>yearmonth</th>\n",
                     "      <th>inflation</th>\n",
                     "    </tr>\n",
                     "  </thead>\n",
                     "  <tbody>\n",
                     "    <tr>\n",
                     "      <th>8537</th>\n",
                     "      <td>ESP</td>\n",
                     "      <td>184</td>\n",
                     "      <td>Spain</td>\n",
                     "      <td>1970-04</td>\n",
                     "      <td>0.000000</td>\n",
                     "    </tr>\n",
                     "    <tr>\n",
                     "      <th>11635</th>\n",
                     "      <td>GTM</td>\n",
                     "      <td>258</td>\n",
                     "      <td>Guatemala</td>\n",
                     "      <td>1970-04</td>\n",
                     "      <td>0.012577</td>\n",
                     "    </tr>\n",
                     "    <tr>\n",
                     "      <th>1231</th>\n",
                     "      <td>AUS</td>\n",
                     "      <td>193</td>\n",
                     "      <td>Australia</td>\n",
                     "      <td>1970-04</td>\n",
                     "      <td>0.011236</td>\n",
                     "    </tr>\n",
                     "    <tr>\n",
                     "      <th>7708</th>\n",
                     "      <td>DOM</td>\n",
                     "      <td>243</td>\n",
                     "      <td>Dominican Republic</td>\n",
                     "      <td>1970-04</td>\n",
                     "      <td>-0.001604</td>\n",
                     "    </tr>\n",
                     "    <tr>\n",
                     "      <th>21697</th>\n",
                     "      <td>NZL</td>\n",
                     "      <td>196</td>\n",
                     "      <td>New Zealand</td>\n",
                     "      <td>1970-04</td>\n",
                     "      <td>0.015421</td>\n",
                     "    </tr>\n",
                     "    <tr>\n",
                     "      <th>...</th>\n",
                     "      <td>...</td>\n",
                     "      <td>...</td>\n",
                     "      <td>...</td>\n",
                     "      <td>...</td>\n",
                     "      <td>...</td>\n",
                     "    </tr>\n",
                     "    <tr>\n",
                     "      <th>16098</th>\n",
                     "      <td>KOR</td>\n",
                     "      <td>542</td>\n",
                     "      <td>Korea, Rep.</td>\n",
                     "      <td>2023-01</td>\n",
                     "      <td>0.010538</td>\n",
                     "    </tr>\n",
                     "    <tr>\n",
                     "      <th>15095</th>\n",
                     "      <td>JPN</td>\n",
                     "      <td>158</td>\n",
                     "      <td>Japan</td>\n",
                     "      <td>2023-01</td>\n",
                     "      <td>0.004500</td>\n",
                     "    </tr>\n",
                     "    <tr>\n",
                     "      <th>14347</th>\n",
                     "      <td>ITA</td>\n",
                     "      <td>136</td>\n",
                     "      <td>Italy</td>\n",
                     "      <td>2023-01</td>\n",
                     "      <td>0.003938</td>\n",
                     "    </tr>\n",
                     "    <tr>\n",
                     "      <th>21470</th>\n",
                     "      <td>NOR</td>\n",
                     "      <td>142</td>\n",
                     "      <td>Norway</td>\n",
                     "      <td>2023-01</td>\n",
                     "      <td>0.006886</td>\n",
                     "    </tr>\n",
                     "    <tr>\n",
                     "      <th>30650</th>\n",
                     "      <td>ZAF</td>\n",
                     "      <td>199</td>\n",
                     "      <td>South Africa</td>\n",
                     "      <td>2023-01</td>\n",
                     "      <td>0.011202</td>\n",
                     "    </tr>\n",
                     "  </tbody>\n",
                     "</table>\n",
                     "<p>8480 rows × 5 columns</p>\n",
                     "</div>"
                  ],
                  "text/plain": [
                     "      Country Code  IMF Country Code             Country yearmonth  inflation\n",
                     "8537           ESP               184               Spain   1970-04   0.000000\n",
                     "11635          GTM               258           Guatemala   1970-04   0.012577\n",
                     "1231           AUS               193           Australia   1970-04   0.011236\n",
                     "7708           DOM               243  Dominican Republic   1970-04  -0.001604\n",
                     "21697          NZL               196         New Zealand   1970-04   0.015421\n",
                     "...            ...               ...                 ...       ...        ...\n",
                     "16098          KOR               542         Korea, Rep.   2023-01   0.010538\n",
                     "15095          JPN               158               Japan   2023-01   0.004500\n",
                     "14347          ITA               136               Italy   2023-01   0.003938\n",
                     "21470          NOR               142              Norway   2023-01   0.006886\n",
                     "30650          ZAF               199        South Africa   2023-01   0.011202\n",
                     "\n",
                     "[8480 rows x 5 columns]"
                  ]
               },
               "execution_count": 7,
               "metadata": {},
               "output_type": "execute_result"
            }
         ],
         "source": [
            "df_inflation"
         ]
      },
      {
         "cell_type": "code",
         "execution_count": 9,
         "metadata": {},
         "outputs": [],
         "source": [
            "from warnings import filterwarnings\n",
            "\n",
            "filterwarnings('ignore')\n",
            "model.fit(df_inflation)"
         ]
      },
      {
         "cell_type": "code",
         "execution_count": 1,
         "metadata": {},
         "outputs": [
            {
               "ename": "NameError",
               "evalue": "name 'model' is not defined",
               "output_type": "error",
               "traceback": [
                  "\u001b[0;31m---------------------------------------------------------------------------\u001b[0m",
                  "\u001b[0;31mNameError\u001b[0m                                 Traceback (most recent call last)",
                  "Cell \u001b[0;32mIn[1], line 1\u001b[0m\n\u001b[0;32m----> 1\u001b[0m \u001b[38;5;28;01mfor\u001b[39;00m country, order \u001b[38;5;129;01min\u001b[39;00m \u001b[43mmodel\u001b[49m\u001b[38;5;241m.\u001b[39morders\u001b[38;5;241m.\u001b[39mitems():\n\u001b[1;32m      2\u001b[0m     \u001b[38;5;28mprint\u001b[39m(\u001b[38;5;124mf\u001b[39m\u001b[38;5;124m\"\u001b[39m\u001b[38;5;124mOrder for \u001b[39m\u001b[38;5;132;01m{\u001b[39;00mcountry\u001b[38;5;132;01m}\u001b[39;00m\u001b[38;5;124m: \u001b[39m\u001b[38;5;132;01m{\u001b[39;00morder\u001b[38;5;132;01m}\u001b[39;00m\u001b[38;5;124m\"\u001b[39m)\n",
                  "\u001b[0;31mNameError\u001b[0m: name 'model' is not defined"
               ]
            }
         ],
         "source": [
            "for country, order in model.orders.items():\n",
            "    print(f\"Order for {country}: {order}\")"
         ]
      },
      {
         "cell_type": "markdown",
         "metadata": {},
         "source": [
            "# 3. Evaluation"
         ]
      },
      {
         "cell_type": "code",
         "execution_count": 11,
         "metadata": {},
         "outputs": [
            {
               "ename": "AttributeError",
               "evalue": "'SARIMAXModel' object has no attribute 'forecast'",
               "output_type": "error",
               "traceback": [
                  "\u001b[0;31m---------------------------------------------------------------------------\u001b[0m",
                  "\u001b[0;31mAttributeError\u001b[0m                            Traceback (most recent call last)",
                  "Cell \u001b[0;32mIn[11], line 4\u001b[0m\n\u001b[1;32m      1\u001b[0m \u001b[38;5;28;01mdef\u001b[39;00m \u001b[38;5;21mplot_forecast\u001b[39m(model, country):\n\u001b[1;32m      2\u001b[0m     model\u001b[38;5;241m.\u001b[39mforecast(country)\u001b[38;5;241m.\u001b[39mplot(title\u001b[38;5;241m=\u001b[39mcountry)\n\u001b[0;32m----> 4\u001b[0m \u001b[43mplot_forecast\u001b[49m\u001b[43m(\u001b[49m\u001b[43mmodel\u001b[49m\u001b[43m,\u001b[49m\u001b[43m \u001b[49m\u001b[38;5;124;43m'\u001b[39;49m\u001b[38;5;124;43mGermany\u001b[39;49m\u001b[38;5;124;43m'\u001b[39;49m\u001b[43m)\u001b[49m\n",
                  "Cell \u001b[0;32mIn[11], line 2\u001b[0m, in \u001b[0;36mplot_forecast\u001b[0;34m(model, country)\u001b[0m\n\u001b[1;32m      1\u001b[0m \u001b[38;5;28;01mdef\u001b[39;00m \u001b[38;5;21mplot_forecast\u001b[39m(model, country):\n\u001b[0;32m----> 2\u001b[0m     \u001b[43mmodel\u001b[49m\u001b[38;5;241;43m.\u001b[39;49m\u001b[43mforecast\u001b[49m(country)\u001b[38;5;241m.\u001b[39mplot(title\u001b[38;5;241m=\u001b[39mcountry)\n",
                  "\u001b[0;31mAttributeError\u001b[0m: 'SARIMAXModel' object has no attribute 'forecast'"
               ]
            }
         ],
         "source": [
            "def plot_forecast(model, country):\n",
            "    model.forecast(country).plot(title=country)\n",
            "\n",
            "plot_forecast(model, 'Germany')"
         ]
      },
      {
         "cell_type": "code",
         "execution_count": null,
         "metadata": {},
         "outputs": [],
         "source": []
      }
   ],
   "metadata": {
      "kernelspec": {
         "display_name": "develop",
         "language": "python",
         "name": "python3"
      },
      "language_info": {
         "codemirror_mode": {
            "name": "ipython",
            "version": 3
         },
         "file_extension": ".py",
         "mimetype": "text/x-python",
         "name": "python",
         "nbconvert_exporter": "python",
         "pygments_lexer": "ipython3",
         "version": "3.12.0"
      }
   },
   "nbformat": 4,
   "nbformat_minor": 2
}