{
   "cells": [
      {
         "cell_type": "markdown",
         "metadata": {},
         "source": [
            "# System dynamics\n",
            "\n",
            "$\\pi_{i,t} = \\tau_{i,t} + \\delta_{i,1,t} \\cdot seas_1(t) + \\ldots + \\delta_{i,4,t} \\cdot seas_4(t) + \\eta_{i,t}$\n",
            "\n",
            "$\\tau_{i,t} = \\tau_{i,t-1}  + \\epsilon_{i,t}$\n",
            "\n",
            "$\\delta_{i,j,t} = \\delta_{i,j,t-1} + seas_j(t) \\cdot \\xi_{i,t},\\quad i = 1,2,3,4$\n",
            "\n",
            "(after each step, subtract mean from deltas to get 0 delta mean.)\n",
            "\n",
            "$\\eta_t \\sim \\mathcal{N}(\\mathbb{0}, \\sigma_{\\eta,t}^2)$\n",
            "\n",
            "$\\epsilon_t \\sim \\mathcal{N}(\\mathbb{0}, \\sigma_{\\epsilon,t}^2)$\n",
            "\n",
            "$\\ln \\sigma_{\\eta,t}^2 = \\ln \\sigma_{\\eta,t-1}^2 + \\nu_{\\eta, t}$\n",
            "\n",
            "$\\ln \\sigma_{\\epsilon,t}^2 = \\ln \\sigma_{\\epsilon,t-1}^2 + \\nu_{\\epsilon, t}$\n",
            "\n",
            "where $seas_i(t) = 1$ iff the season corresponding to timestamp $t$ is $i$."
         ]
      },
      {
         "cell_type": "code",
         "execution_count": 1,
         "metadata": {},
         "outputs": [],
         "source": [
            "%load_ext autoreload\n",
            "%autoreload 2"
         ]
      },
      {
         "cell_type": "code",
         "execution_count": 2,
         "metadata": {},
         "outputs": [
            {
               "name": "stderr",
               "output_type": "stream",
               "text": [
                  "WARNING: All log messages before absl::InitializeLog() is called are written to STDERR\n",
                  "I0000 00:00:1712229555.658932 3933033 tfrt_cpu_pjrt_client.cc:349] TfrtCpuClient created.\n"
               ]
            },
            {
               "data": {
                  "text/plain": [
                     "[CpuDevice(id=0),\n",
                     " CpuDevice(id=1),\n",
                     " CpuDevice(id=2),\n",
                     " CpuDevice(id=3),\n",
                     " CpuDevice(id=4),\n",
                     " CpuDevice(id=5),\n",
                     " CpuDevice(id=6),\n",
                     " CpuDevice(id=7),\n",
                     " CpuDevice(id=8),\n",
                     " CpuDevice(id=9),\n",
                     " CpuDevice(id=10),\n",
                     " CpuDevice(id=11)]"
                  ]
               },
               "execution_count": 2,
               "metadata": {},
               "output_type": "execute_result"
            }
         ],
         "source": [
            "import os\n",
            "\n",
            "# env XLA_FLAGS=--xla_force_host_platform_device_count=28 python foo.py\n",
            "os.environ['XLA_FLAGS'] = '--xla_force_host_platform_device_count=1'\n",
            "\n",
            "import jax\n",
            "jax.config.update('jax_platform_name', 'cpu')\n",
            "jax.devices()"
         ]
      },
      {
         "cell_type": "code",
         "execution_count": 3,
         "metadata": {},
         "outputs": [],
         "source": [
            "import pandas as pd\n",
            "from seminartools.data import read_inflation\n",
            "from seminartools.models.mucsvss_model import MUCSVSSModel"
         ]
      },
      {
         "cell_type": "markdown",
         "metadata": {},
         "source": [
            "# 1. Read data"
         ]
      },
      {
         "cell_type": "code",
         "execution_count": 4,
         "metadata": {},
         "outputs": [
            {
               "data": {
                  "text/html": [
                     "<div>\n",
                     "<style scoped>\n",
                     "    .dataframe tbody tr th:only-of-type {\n",
                     "        vertical-align: middle;\n",
                     "    }\n",
                     "\n",
                     "    .dataframe tbody tr th {\n",
                     "        vertical-align: top;\n",
                     "    }\n",
                     "\n",
                     "    .dataframe thead th {\n",
                     "        text-align: right;\n",
                     "    }\n",
                     "</style>\n",
                     "<table border=\"1\" class=\"dataframe\">\n",
                     "  <thead>\n",
                     "    <tr style=\"text-align: right;\">\n",
                     "      <th></th>\n",
                     "      <th>country</th>\n",
                     "      <th>date</th>\n",
                     "      <th>inflation</th>\n",
                     "    </tr>\n",
                     "  </thead>\n",
                     "  <tbody>\n",
                     "    <tr>\n",
                     "      <th>0</th>\n",
                     "      <td>Portugal</td>\n",
                     "      <td>1970-04-01</td>\n",
                     "      <td>0.000000</td>\n",
                     "    </tr>\n",
                     "    <tr>\n",
                     "      <th>1</th>\n",
                     "      <td>New Zealand</td>\n",
                     "      <td>1970-04-01</td>\n",
                     "      <td>0.015421</td>\n",
                     "    </tr>\n",
                     "    <tr>\n",
                     "      <th>2</th>\n",
                     "      <td>Dominican Republic</td>\n",
                     "      <td>1970-04-01</td>\n",
                     "      <td>-0.001604</td>\n",
                     "    </tr>\n",
                     "    <tr>\n",
                     "      <th>3</th>\n",
                     "      <td>Finland</td>\n",
                     "      <td>1970-04-01</td>\n",
                     "      <td>0.008333</td>\n",
                     "    </tr>\n",
                     "    <tr>\n",
                     "      <th>4</th>\n",
                     "      <td>Ireland</td>\n",
                     "      <td>1970-04-01</td>\n",
                     "      <td>0.029871</td>\n",
                     "    </tr>\n",
                     "    <tr>\n",
                     "      <th>...</th>\n",
                     "      <td>...</td>\n",
                     "      <td>...</td>\n",
                     "      <td>...</td>\n",
                     "    </tr>\n",
                     "    <tr>\n",
                     "      <th>7415</th>\n",
                     "      <td>Canada</td>\n",
                     "      <td>2023-01-01</td>\n",
                     "      <td>0.006080</td>\n",
                     "    </tr>\n",
                     "    <tr>\n",
                     "      <th>7416</th>\n",
                     "      <td>Sweden</td>\n",
                     "      <td>2023-01-01</td>\n",
                     "      <td>0.014955</td>\n",
                     "    </tr>\n",
                     "    <tr>\n",
                     "      <th>7417</th>\n",
                     "      <td>Korea</td>\n",
                     "      <td>2023-01-01</td>\n",
                     "      <td>0.010538</td>\n",
                     "    </tr>\n",
                     "    <tr>\n",
                     "      <th>7418</th>\n",
                     "      <td>United Kingdom</td>\n",
                     "      <td>2023-01-01</td>\n",
                     "      <td>0.008814</td>\n",
                     "    </tr>\n",
                     "    <tr>\n",
                     "      <th>7419</th>\n",
                     "      <td>South Africa</td>\n",
                     "      <td>2023-01-01</td>\n",
                     "      <td>0.011202</td>\n",
                     "    </tr>\n",
                     "  </tbody>\n",
                     "</table>\n",
                     "<p>7420 rows × 3 columns</p>\n",
                     "</div>"
                  ],
                  "text/plain": [
                     "                 country       date  inflation\n",
                     "0               Portugal 1970-04-01   0.000000\n",
                     "1            New Zealand 1970-04-01   0.015421\n",
                     "2     Dominican Republic 1970-04-01  -0.001604\n",
                     "3                Finland 1970-04-01   0.008333\n",
                     "4                Ireland 1970-04-01   0.029871\n",
                     "...                  ...        ...        ...\n",
                     "7415              Canada 2023-01-01   0.006080\n",
                     "7416              Sweden 2023-01-01   0.014955\n",
                     "7417               Korea 2023-01-01   0.010538\n",
                     "7418      United Kingdom 2023-01-01   0.008814\n",
                     "7419        South Africa 2023-01-01   0.011202\n",
                     "\n",
                     "[7420 rows x 3 columns]"
                  ]
               },
               "execution_count": 4,
               "metadata": {},
               "output_type": "execute_result"
            }
         ],
         "source": [
            "df_inflation = read_inflation(mergeable_format=True).reset_index()\n",
            "df_inflation"
         ]
      },
      {
         "cell_type": "markdown",
         "metadata": {},
         "source": [
            "# 2. Model"
         ]
      },
      {
         "cell_type": "code",
         "execution_count": 9,
         "metadata": {},
         "outputs": [
            {
               "data": {
                  "text/plain": [
                     "<seminartools.models.mucsvss_model.MUCSVSSModel at 0x7f64e0972650>"
                  ]
               },
               "execution_count": 9,
               "metadata": {},
               "output_type": "execute_result"
            }
         ],
         "source": [
            "from seminartools.utils import geo_distance\n",
            "import jax\n",
            "\n",
            "#jax.config.update(\"jax_enable_x64\", True)\n",
            "\n",
            "model = MUCSVSSModel(\n",
            "    num_particles=10008, stochastic_seasonality=True\n",
            ")\n",
            "model"
         ]
      },
      {
         "cell_type": "code",
         "execution_count": 10,
         "metadata": {},
         "outputs": [
            {
               "name": "stderr",
               "output_type": "stream",
               "text": [
                  "  1%|          | 2/212 [01:14<2:10:21, 37.25s/it]"
               ]
            }
         ],
         "source": [
            "model.full_fit(df_inflation)"
         ]
      },
      {
         "cell_type": "code",
         "execution_count": null,
         "metadata": {},
         "outputs": [],
         "source": [
            "%load_ext line_profiler"
         ]
      },
      {
         "cell_type": "code",
         "execution_count": null,
         "metadata": {},
         "outputs": [],
         "source": [
            "import seaborn as sns\n",
            "# 2 decimals. thin column width\n",
            "model.corr.style.format(precision = 2).background_gradient(cmap='coolwarm', axis=None)"
         ]
      },
      {
         "cell_type": "code",
         "execution_count": null,
         "metadata": {},
         "outputs": [],
         "source": [
            "model.stored_state_means"
         ]
      },
      {
         "cell_type": "markdown",
         "metadata": {},
         "source": [
            "# 3. Evaluation"
         ]
      },
      {
         "cell_type": "code",
         "execution_count": null,
         "metadata": {},
         "outputs": [],
         "source": [
            "df_inflation[\"country\"].unique()"
         ]
      },
      {
         "cell_type": "code",
         "execution_count": null,
         "metadata": {},
         "outputs": [],
         "source": [
            "model.stored_state_means[\"etau\"][\"United States\"].plot()\n",
            "df_inflation.query(\"country == 'United States'\").set_index(\"date\")[\"inflation\"].plot()"
         ]
      },
      {
         "cell_type": "markdown",
         "metadata": {},
         "source": [
            "# 4. H-period ahead forecasting"
         ]
      },
      {
         "cell_type": "code",
         "execution_count": null,
         "metadata": {},
         "outputs": [],
         "source": [
            "df_inflation"
         ]
      },
      {
         "cell_type": "code",
         "execution_count": null,
         "metadata": {},
         "outputs": [],
         "source": [
            "model.predict(df_inflation.query(\"date <= '2022-10-1'\"))"
         ]
      },
      {
         "cell_type": "code",
         "execution_count": null,
         "metadata": {},
         "outputs": [],
         "source": [
            "from seminartools.models.utils import h_period_ahead_forecast\n",
            "\n",
            "forecast = h_period_ahead_forecast(model, df_inflation, \"2010-01-01\", h=1)\n",
            "forecast"
         ]
      },
      {
         "cell_type": "code",
         "execution_count": null,
         "metadata": {},
         "outputs": [],
         "source": [
            "model.stored_state_means.loc[\"United States\"][[\"edelta1\", \"edelta2\", \"edelta3\", \"edelta4\"]].plot()"
         ]
      },
      {
         "cell_type": "code",
         "execution_count": null,
         "metadata": {},
         "outputs": [],
         "source": [
            "import matplotlib.pyplot as plt\n",
            "forecast.query(\"country == 'United States'\").set_index(\"date\")['inflation'].plot(label = \"forecast 1 ahead\")\n",
            "df_inflation.query(\"country == 'United States' and date >= '2010-01-01'\").set_index(\"date\")['inflation'].plot(label = \"actual\")\n",
            "model.stored_state_means.loc[\"United States\"].loc[\"2010-01-01\":][\"etau\"].plot(label = \"tau\")\n",
            "plt.legend()\n",
            "plt.title(\"Forecasts, tau and actual inflation for the US\")"
         ]
      },
      {
         "cell_type": "code",
         "execution_count": null,
         "metadata": {},
         "outputs": [],
         "source": [
            "import seaborn as sns\n",
            "sns.lineplot(\n",
            "    data = model.stored_state_means[\"etau\"].to_frame().reset_index(),\n",
            "    x = \"date\",\n",
            "    y = \"etau\",\n",
            "    hue = \"country\"\n",
            ")\n",
            "plt.legend().remove()\n",
            "plt.title(\"Tau over time per country\")"
         ]
      },
      {
         "cell_type": "code",
         "execution_count": null,
         "metadata": {},
         "outputs": [],
         "source": [
            "import seaborn as sns\n",
            "import matplotlib.pyplot as plt\n",
            "\n",
            "sns.lineplot(\n",
            "    data = forecast,\n",
            "    x = \"date\",\n",
            "    y = \"inflation\",\n",
            "    hue = \"country\"\n",
            ")\n",
            "# turn off legend\n",
            "plt.legend().remove()"
         ]
      },
      {
         "cell_type": "code",
         "execution_count": null,
         "metadata": {},
         "outputs": [],
         "source": [
            "model.stored_state_means.loc[\"United States\"][[\"edelta1\", \"edelta2\", \"edelta3\", \"edelta4\"]].plot()\n",
            "plt.title(\"Delta over time for the US\")\n",
            "plt.tight_layout()\n",
            "plt.savefig(\"../../Figures/delta_over_time.png\", dpi = 300)"
         ]
      },
      {
         "cell_type": "markdown",
         "metadata": {},
         "source": [
            "# 5. Compare the forecast with the actual data"
         ]
      },
      {
         "cell_type": "code",
         "execution_count": null,
         "metadata": {},
         "outputs": [],
         "source": [
            "forecast_merged = forecast.copy().rename(columns={\"inflation\": \"pred\"})\n",
            "forecast_merged = forecast_merged.merge(\n",
            "    df_inflation[[\"country\", \"date\", \"inflation\"]],\n",
            "    on=[\"country\", \"date\"],\n",
            "    how=\"left\",\n",
            ").rename(columns={\"inflation\": \"actual\"})\n",
            "forecast_merged.tail(100)"
         ]
      },
      {
         "cell_type": "code",
         "execution_count": null,
         "metadata": {},
         "outputs": [],
         "source": [
            "sns.scatterplot(\n",
            "    data = forecast_merged,\n",
            "    x = \"pred\",\n",
            "    y = \"actual\",\n",
            "    hue = \"country\"\n",
            ")\n",
            "plt.legend().remove()"
         ]
      },
      {
         "cell_type": "code",
         "execution_count": null,
         "metadata": {},
         "outputs": [],
         "source": [
            "import statsmodels.api as sm\n",
            "\n",
            "sm.OLS(\n",
            "    forecast_merged[\"actual\"], sm.add_constant(forecast_merged[\"pred\"])\n",
            ").fit().summary()"
         ]
      },
      {
         "cell_type": "code",
         "execution_count": null,
         "metadata": {},
         "outputs": [],
         "source": [
            "#getDensities\n",
            "from seminartools.models.uc_sv_ss_model import UCSVSSModel\n",
            "modelDistribution = UCSVSSModel(num_particles=10000, stochastic_seasonality=True)\n",
            "modelDistribution.run_pf(df_inflation, aggregation_method = \"distribution\")\n"
         ]
      },
      {
         "cell_type": "code",
         "execution_count": null,
         "metadata": {},
         "outputs": [],
         "source": [
            "distributionForecast = h_period_ahead_forecast(modelDistribution, df_inflation, \"2010-01-01\", h=1)\n"
         ]
      },
      {
         "cell_type": "code",
         "execution_count": null,
         "metadata": {},
         "outputs": [],
         "source": [
            "US_inflation = distributionForecast.query(\"country == 'United States'\").set_index(\"date\")['inflation']\n",
            "\n",
            "plt.plot(\n",
            "    US_inflation.iloc[-1][\"inflation_grid\"],\n",
            "    US_inflation.iloc[-1][\"pdf\"]\n",
            "    )"
         ]
      }
   ],
   "metadata": {
      "kernelspec": {
         "display_name": "develop",
         "language": "python",
         "name": "python3"
      },
      "language_info": {
         "codemirror_mode": {
            "name": "ipython",
            "version": 3
         },
         "file_extension": ".py",
         "mimetype": "text/x-python",
         "name": "python",
         "nbconvert_exporter": "python",
         "pygments_lexer": "ipython3",
         "version": "3.11.4"
      }
   },
   "nbformat": 4,
   "nbformat_minor": 2
}
