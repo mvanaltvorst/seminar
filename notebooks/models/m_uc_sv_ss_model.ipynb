{
   "cells": [
      {
         "cell_type": "markdown",
         "metadata": {},
         "source": [
            "# System dynamics\n",
            "\n",
            "$\\pi_{i,t} = \\tau_{i,t} + \\delta_{i,1,t} \\cdot seas_1(t) + \\ldots + \\delta_{i,4,t} \\cdot seas_4(t) + \\eta_{i,t}$\n",
            "\n",
            "$\\tau_{i,t} = \\tau_{i,t-1}  + \\epsilon_{i,t}$\n",
            "\n",
            "$\\delta_{i,j,t} = \\delta_{i,j,t-1} + seas_j(t) \\cdot \\xi_{i,t},\\quad i = 1,2,3,4$\n",
            "\n",
            "(after each step, subtract mean from deltas to get 0 delta mean.)\n",
            "\n",
            "$\\eta_t \\sim \\mathcal{N}(\\mathbb{0}, \\sigma_{\\eta,t}^2)$\n",
            "\n",
            "$\\epsilon_t \\sim \\mathcal{N}(\\mathbb{0}, \\sigma_{\\epsilon,t}^2)$\n",
            "\n",
            "$\\ln \\sigma_{\\eta,t}^2 = \\ln \\sigma_{\\eta,t-1}^2 + \\nu_{\\eta, t}$\n",
            "\n",
            "$\\ln \\sigma_{\\epsilon,t}^2 = \\ln \\sigma_{\\epsilon,t-1}^2 + \\nu_{\\epsilon, t}$\n",
            "\n",
            "where $seas_i(t) = 1$ iff the season corresponding to timestamp $t$ is $i$."
         ]
      },
      {
         "cell_type": "code",
         "execution_count": 1,
         "metadata": {},
         "outputs": [],
         "source": [
            "%load_ext autoreload\n",
            "%autoreload 2"
         ]
      },
      {
         "cell_type": "code",
         "execution_count": 2,
         "metadata": {},
         "outputs": [
            {
               "name": "stderr",
               "output_type": "stream",
               "text": [
                  "Platform 'METAL' is experimental and not all JAX functionality may be correctly supported!\n"
               ]
            },
            {
               "name": "stdout",
               "output_type": "stream",
               "text": [
                  "Metal device set to: Apple M3 Max\n",
                  "\n",
                  "systemMemory: 36.00 GB\n",
                  "maxCacheSize: 13.50 GB\n",
                  "\n"
               ]
            },
            {
               "name": "stderr",
               "output_type": "stream",
               "text": [
                  "2024-04-04 15:03:16.501017: W pjrt_plugin/src/mps_client.cc:563] WARNING: JAX Apple GPU support is experimental and not all JAX functionality is correctly supported!\n"
               ]
            },
            {
               "data": {
                  "text/plain": [
                     "[CpuDevice(id=0),\n",
                     " CpuDevice(id=1),\n",
                     " CpuDevice(id=2),\n",
                     " CpuDevice(id=3),\n",
                     " CpuDevice(id=4),\n",
                     " CpuDevice(id=5),\n",
                     " CpuDevice(id=6),\n",
                     " CpuDevice(id=7),\n",
                     " CpuDevice(id=8),\n",
                     " CpuDevice(id=9),\n",
                     " CpuDevice(id=10),\n",
                     " CpuDevice(id=11)]"
                  ]
               },
               "execution_count": 2,
               "metadata": {},
               "output_type": "execute_result"
            }
         ],
         "source": [
            "import os\n",
            "\n",
            "# env XLA_FLAGS=--xla_force_host_platform_device_count=28 python foo.py\n",
            "os.environ['XLA_FLAGS'] = '--xla_force_host_platform_device_count=12'\n",
            "\n",
            "import jax\n",
            "jax.config.update('jax_platform_name', 'cpu')\n",
            "jax.devices()"
         ]
      },
      {
         "cell_type": "code",
         "execution_count": 3,
         "metadata": {},
         "outputs": [],
         "source": [
            "import pandas as pd\n",
            "from seminartools.data import read_inflation\n",
            "from seminartools.models.mucsvss_model import MUCSVSSModel"
         ]
      },
      {
         "cell_type": "markdown",
         "metadata": {},
         "source": [
            "# 1. Read data"
         ]
      },
      {
         "cell_type": "code",
         "execution_count": 4,
         "metadata": {},
         "outputs": [
            {
               "data": {
                  "text/html": [
                     "<div>\n",
                     "<style scoped>\n",
                     "    .dataframe tbody tr th:only-of-type {\n",
                     "        vertical-align: middle;\n",
                     "    }\n",
                     "\n",
                     "    .dataframe tbody tr th {\n",
                     "        vertical-align: top;\n",
                     "    }\n",
                     "\n",
                     "    .dataframe thead th {\n",
                     "        text-align: right;\n",
                     "    }\n",
                     "</style>\n",
                     "<table border=\"1\" class=\"dataframe\">\n",
                     "  <thead>\n",
                     "    <tr style=\"text-align: right;\">\n",
                     "      <th></th>\n",
                     "      <th>country</th>\n",
                     "      <th>date</th>\n",
                     "      <th>inflation</th>\n",
                     "    </tr>\n",
                     "  </thead>\n",
                     "  <tbody>\n",
                     "    <tr>\n",
                     "      <th>0</th>\n",
                     "      <td>Portugal</td>\n",
                     "      <td>1970-04-01</td>\n",
                     "      <td>0.000000</td>\n",
                     "    </tr>\n",
                     "    <tr>\n",
                     "      <th>1</th>\n",
                     "      <td>New Zealand</td>\n",
                     "      <td>1970-04-01</td>\n",
                     "      <td>0.015421</td>\n",
                     "    </tr>\n",
                     "    <tr>\n",
                     "      <th>2</th>\n",
                     "      <td>Dominican Republic</td>\n",
                     "      <td>1970-04-01</td>\n",
                     "      <td>-0.001604</td>\n",
                     "    </tr>\n",
                     "    <tr>\n",
                     "      <th>3</th>\n",
                     "      <td>Finland</td>\n",
                     "      <td>1970-04-01</td>\n",
                     "      <td>0.008333</td>\n",
                     "    </tr>\n",
                     "    <tr>\n",
                     "      <th>4</th>\n",
                     "      <td>Ireland</td>\n",
                     "      <td>1970-04-01</td>\n",
                     "      <td>0.029871</td>\n",
                     "    </tr>\n",
                     "    <tr>\n",
                     "      <th>...</th>\n",
                     "      <td>...</td>\n",
                     "      <td>...</td>\n",
                     "      <td>...</td>\n",
                     "    </tr>\n",
                     "    <tr>\n",
                     "      <th>7415</th>\n",
                     "      <td>Canada</td>\n",
                     "      <td>2023-01-01</td>\n",
                     "      <td>0.006080</td>\n",
                     "    </tr>\n",
                     "    <tr>\n",
                     "      <th>7416</th>\n",
                     "      <td>Sweden</td>\n",
                     "      <td>2023-01-01</td>\n",
                     "      <td>0.014955</td>\n",
                     "    </tr>\n",
                     "    <tr>\n",
                     "      <th>7417</th>\n",
                     "      <td>Korea</td>\n",
                     "      <td>2023-01-01</td>\n",
                     "      <td>0.010538</td>\n",
                     "    </tr>\n",
                     "    <tr>\n",
                     "      <th>7418</th>\n",
                     "      <td>United Kingdom</td>\n",
                     "      <td>2023-01-01</td>\n",
                     "      <td>0.008814</td>\n",
                     "    </tr>\n",
                     "    <tr>\n",
                     "      <th>7419</th>\n",
                     "      <td>South Africa</td>\n",
                     "      <td>2023-01-01</td>\n",
                     "      <td>0.011202</td>\n",
                     "    </tr>\n",
                     "  </tbody>\n",
                     "</table>\n",
                     "<p>7420 rows × 3 columns</p>\n",
                     "</div>"
                  ],
                  "text/plain": [
                     "                 country       date  inflation\n",
                     "0               Portugal 1970-04-01   0.000000\n",
                     "1            New Zealand 1970-04-01   0.015421\n",
                     "2     Dominican Republic 1970-04-01  -0.001604\n",
                     "3                Finland 1970-04-01   0.008333\n",
                     "4                Ireland 1970-04-01   0.029871\n",
                     "...                  ...        ...        ...\n",
                     "7415              Canada 2023-01-01   0.006080\n",
                     "7416              Sweden 2023-01-01   0.014955\n",
                     "7417               Korea 2023-01-01   0.010538\n",
                     "7418      United Kingdom 2023-01-01   0.008814\n",
                     "7419        South Africa 2023-01-01   0.011202\n",
                     "\n",
                     "[7420 rows x 3 columns]"
                  ]
               },
               "execution_count": 4,
               "metadata": {},
               "output_type": "execute_result"
            }
         ],
         "source": [
            "df_inflation = read_inflation(mergeable_format=True).reset_index()\n",
            "df_inflation"
         ]
      },
      {
         "cell_type": "markdown",
         "metadata": {},
         "source": [
            "# 2. Model"
         ]
      },
      {
         "cell_type": "code",
         "execution_count": 5,
         "metadata": {},
         "outputs": [
            {
               "data": {
                  "text/plain": [
                     "<seminartools.models.mucsvss_model.MUCSVSSModel at 0x3003704d0>"
                  ]
               },
               "execution_count": 5,
               "metadata": {},
               "output_type": "execute_result"
            }
         ],
         "source": [
            "from seminartools.utils import geo_distance\n",
            "\n",
            "model = MUCSVSSModel(\n",
            "    num_particles=3 * 100004, stochastic_seasonality=True\n",
            ")\n",
            "model"
         ]
      },
      {
         "cell_type": "code",
         "execution_count": 6,
         "metadata": {},
         "outputs": [
            {
               "name": "stderr",
               "output_type": "stream",
               "text": [
                  "  7%|▋         | 14/212 [01:32<21:54,  6.64s/it]\n"
               ]
            },
            {
               "ename": "KeyboardInterrupt",
               "evalue": "",
               "output_type": "error",
               "traceback": [
                  "\u001b[0;31m---------------------------------------------------------------------------\u001b[0m",
                  "\u001b[0;31mKeyboardInterrupt\u001b[0m                         Traceback (most recent call last)",
                  "Cell \u001b[0;32mIn[6], line 1\u001b[0m\n\u001b[0;32m----> 1\u001b[0m \u001b[43mmodel\u001b[49m\u001b[38;5;241;43m.\u001b[39;49m\u001b[43mfull_fit\u001b[49m\u001b[43m(\u001b[49m\u001b[43mdf_inflation\u001b[49m\u001b[43m)\u001b[49m\n",
                  "File \u001b[0;32m~/Documents/seminar/seminartools/models/mucsvss_model.py:108\u001b[0m, in \u001b[0;36mMUCSVSSModel.full_fit\u001b[0;34m(self, data, aggregation_method)\u001b[0m\n\u001b[1;32m    102\u001b[0m \u001b[38;5;28mself\u001b[39m\u001b[38;5;241m.\u001b[39maggregation_method \u001b[38;5;241m=\u001b[39m aggregation_method\n\u001b[1;32m    104\u001b[0m \u001b[38;5;66;03m# dfs = Parallel(n_jobs=N_CORES)(\u001b[39;00m\n\u001b[1;32m    105\u001b[0m \u001b[38;5;66;03m#     delayed(self._run_pf)(data.loc[data[self.country_column] == country])\u001b[39;00m\n\u001b[1;32m    106\u001b[0m \u001b[38;5;66;03m#     for country in tqdm(data[self.country_column].unique())\u001b[39;00m\n\u001b[1;32m    107\u001b[0m \u001b[38;5;66;03m# )\u001b[39;00m\n\u001b[0;32m--> 108\u001b[0m df \u001b[38;5;241m=\u001b[39m \u001b[38;5;28;43mself\u001b[39;49m\u001b[38;5;241;43m.\u001b[39;49m\u001b[43m_run_pf\u001b[49m\u001b[43m(\u001b[49m\u001b[43mdata\u001b[49m\u001b[43m)\u001b[49m\n\u001b[1;32m    109\u001b[0m \u001b[38;5;66;03m# self.stored_state_means = pd.concat(dfs, axis=0)\u001b[39;00m\n\u001b[1;32m    110\u001b[0m \u001b[38;5;28mself\u001b[39m\u001b[38;5;241m.\u001b[39mstored_state_means \u001b[38;5;241m=\u001b[39m df\n",
                  "File \u001b[0;32m~/Documents/seminar/seminartools/models/mucsvss_model.py:468\u001b[0m, in \u001b[0;36mMUCSVSSModel._run_pf\u001b[0;34m(self, data)\u001b[0m\n\u001b[1;32m    456\u001b[0m     X_updated \u001b[38;5;241m=\u001b[39m update_particles_parallel(\n\u001b[1;32m    457\u001b[0m         Xtminus1_reshaped,\n\u001b[1;32m    458\u001b[0m         t,\n\u001b[0;32m   (...)\u001b[0m\n\u001b[1;32m    464\u001b[0m         subkeys_reshaped,\n\u001b[1;32m    465\u001b[0m     )\n\u001b[1;32m    466\u001b[0m     key, subkey \u001b[38;5;241m=\u001b[39m random\u001b[38;5;241m.\u001b[39msplit(key)\n\u001b[0;32m--> 468\u001b[0m     X, W, etauplusdeltas_element \u001b[38;5;241m=\u001b[39m \u001b[43mjit_update_X_W\u001b[49m\u001b[43m(\u001b[49m\u001b[43mX\u001b[49m\u001b[43m,\u001b[49m\u001b[43m \u001b[49m\u001b[43mW\u001b[49m\u001b[43m,\u001b[49m\u001b[43m \u001b[49m\u001b[43mX_updated\u001b[49m\u001b[43m,\u001b[49m\u001b[43m \u001b[49m\u001b[43mcurrent_country_idxs\u001b[49m\u001b[43m,\u001b[49m\u001b[43m \u001b[49m\u001b[43mt\u001b[49m\u001b[43m,\u001b[49m\u001b[43m \u001b[49m\u001b[43msubkey\u001b[49m\u001b[43m)\u001b[49m\n\u001b[1;32m    469\u001b[0m     etauplusdeltas\u001b[38;5;241m.\u001b[39mappend(etauplusdeltas_element)\n\u001b[1;32m    471\u001b[0m \u001b[38;5;28;01mif\u001b[39;00m \u001b[38;5;28mself\u001b[39m\u001b[38;5;241m.\u001b[39maggregation_method \u001b[38;5;241m==\u001b[39m \u001b[38;5;124m\"\u001b[39m\u001b[38;5;124mmedian\u001b[39m\u001b[38;5;124m\"\u001b[39m:\n",
                  "    \u001b[0;31m[... skipping hidden 1 frame]\u001b[0m\n",
                  "File \u001b[0;32m~/micromamba/envs/develop311/lib/python3.11/site-packages/jax/_src/pjit.py:298\u001b[0m, in \u001b[0;36m_cpp_pjit.<locals>.cache_miss\u001b[0;34m(*args, **kwargs)\u001b[0m\n\u001b[1;32m    296\u001b[0m \u001b[38;5;129m@api_boundary\u001b[39m\n\u001b[1;32m    297\u001b[0m \u001b[38;5;28;01mdef\u001b[39;00m \u001b[38;5;21mcache_miss\u001b[39m(\u001b[38;5;241m*\u001b[39margs, \u001b[38;5;241m*\u001b[39m\u001b[38;5;241m*\u001b[39mkwargs):\n\u001b[0;32m--> 298\u001b[0m   outs, out_flat, out_tree, args_flat, jaxpr, attrs_tracked \u001b[38;5;241m=\u001b[39m \u001b[43m_python_pjit_helper\u001b[49m\u001b[43m(\u001b[49m\n\u001b[1;32m    299\u001b[0m \u001b[43m      \u001b[49m\u001b[43mjit_info\u001b[49m\u001b[43m,\u001b[49m\u001b[43m \u001b[49m\u001b[38;5;241;43m*\u001b[39;49m\u001b[43margs\u001b[49m\u001b[43m,\u001b[49m\u001b[43m \u001b[49m\u001b[38;5;241;43m*\u001b[39;49m\u001b[38;5;241;43m*\u001b[39;49m\u001b[43mkwargs\u001b[49m\u001b[43m)\u001b[49m\n\u001b[1;32m    300\u001b[0m   executable \u001b[38;5;241m=\u001b[39m _read_most_recent_pjit_call_executable(jaxpr)\n\u001b[1;32m    301\u001b[0m   maybe_fastpath_data \u001b[38;5;241m=\u001b[39m _get_fastpath_data(\n\u001b[1;32m    302\u001b[0m       executable, out_tree, args_flat, out_flat, attrs_tracked, jaxpr\u001b[38;5;241m.\u001b[39meffects,\n\u001b[1;32m    303\u001b[0m       jit_info\u001b[38;5;241m.\u001b[39mabstracted_axes)\n",
                  "File \u001b[0;32m~/micromamba/envs/develop311/lib/python3.11/site-packages/jax/_src/pjit.py:176\u001b[0m, in \u001b[0;36m_python_pjit_helper\u001b[0;34m(jit_info, *args, **kwargs)\u001b[0m\n\u001b[1;32m    173\u001b[0m   args_flat \u001b[38;5;241m=\u001b[39m [\u001b[38;5;241m*\u001b[39minit_states, \u001b[38;5;241m*\u001b[39margs_flat]\n\u001b[1;32m    175\u001b[0m \u001b[38;5;28;01mtry\u001b[39;00m:\n\u001b[0;32m--> 176\u001b[0m   out_flat \u001b[38;5;241m=\u001b[39m \u001b[43mpjit_p\u001b[49m\u001b[38;5;241;43m.\u001b[39;49m\u001b[43mbind\u001b[49m\u001b[43m(\u001b[49m\u001b[38;5;241;43m*\u001b[39;49m\u001b[43margs_flat\u001b[49m\u001b[43m,\u001b[49m\u001b[43m \u001b[49m\u001b[38;5;241;43m*\u001b[39;49m\u001b[38;5;241;43m*\u001b[39;49m\u001b[43mparams\u001b[49m\u001b[43m)\u001b[49m\n\u001b[1;32m    177\u001b[0m \u001b[38;5;28;01mexcept\u001b[39;00m pxla\u001b[38;5;241m.\u001b[39mDeviceAssignmentMismatchError \u001b[38;5;28;01mas\u001b[39;00m e:\n\u001b[1;32m    178\u001b[0m   fails, \u001b[38;5;241m=\u001b[39m e\u001b[38;5;241m.\u001b[39margs\n",
                  "File \u001b[0;32m~/micromamba/envs/develop311/lib/python3.11/site-packages/jax/_src/core.py:2788\u001b[0m, in \u001b[0;36mAxisPrimitive.bind\u001b[0;34m(self, *args, **params)\u001b[0m\n\u001b[1;32m   2784\u001b[0m axis_main \u001b[38;5;241m=\u001b[39m \u001b[38;5;28mmax\u001b[39m((axis_frame(a)\u001b[38;5;241m.\u001b[39mmain_trace \u001b[38;5;28;01mfor\u001b[39;00m a \u001b[38;5;129;01min\u001b[39;00m used_axis_names(\u001b[38;5;28mself\u001b[39m, params)),\n\u001b[1;32m   2785\u001b[0m                 default\u001b[38;5;241m=\u001b[39m\u001b[38;5;28;01mNone\u001b[39;00m, key\u001b[38;5;241m=\u001b[39m\u001b[38;5;28;01mlambda\u001b[39;00m t: \u001b[38;5;28mgetattr\u001b[39m(t, \u001b[38;5;124m'\u001b[39m\u001b[38;5;124mlevel\u001b[39m\u001b[38;5;124m'\u001b[39m, \u001b[38;5;241m-\u001b[39m\u001b[38;5;241m1\u001b[39m))\n\u001b[1;32m   2786\u001b[0m top_trace \u001b[38;5;241m=\u001b[39m (top_trace \u001b[38;5;28;01mif\u001b[39;00m \u001b[38;5;129;01mnot\u001b[39;00m axis_main \u001b[38;5;129;01mor\u001b[39;00m axis_main\u001b[38;5;241m.\u001b[39mlevel \u001b[38;5;241m<\u001b[39m top_trace\u001b[38;5;241m.\u001b[39mlevel\n\u001b[1;32m   2787\u001b[0m              \u001b[38;5;28;01melse\u001b[39;00m axis_main\u001b[38;5;241m.\u001b[39mwith_cur_sublevel())\n\u001b[0;32m-> 2788\u001b[0m \u001b[38;5;28;01mreturn\u001b[39;00m \u001b[38;5;28;43mself\u001b[39;49m\u001b[38;5;241;43m.\u001b[39;49m\u001b[43mbind_with_trace\u001b[49m\u001b[43m(\u001b[49m\u001b[43mtop_trace\u001b[49m\u001b[43m,\u001b[49m\u001b[43m \u001b[49m\u001b[43margs\u001b[49m\u001b[43m,\u001b[49m\u001b[43m \u001b[49m\u001b[43mparams\u001b[49m\u001b[43m)\u001b[49m\n",
                  "File \u001b[0;32m~/micromamba/envs/develop311/lib/python3.11/site-packages/jax/_src/core.py:425\u001b[0m, in \u001b[0;36mPrimitive.bind_with_trace\u001b[0;34m(self, trace, args, params)\u001b[0m\n\u001b[1;32m    424\u001b[0m \u001b[38;5;28;01mdef\u001b[39;00m \u001b[38;5;21mbind_with_trace\u001b[39m(\u001b[38;5;28mself\u001b[39m, trace, args, params):\n\u001b[0;32m--> 425\u001b[0m   out \u001b[38;5;241m=\u001b[39m \u001b[43mtrace\u001b[49m\u001b[38;5;241;43m.\u001b[39;49m\u001b[43mprocess_primitive\u001b[49m\u001b[43m(\u001b[49m\u001b[38;5;28;43mself\u001b[39;49m\u001b[43m,\u001b[49m\u001b[43m \u001b[49m\u001b[38;5;28;43mmap\u001b[39;49m\u001b[43m(\u001b[49m\u001b[43mtrace\u001b[49m\u001b[38;5;241;43m.\u001b[39;49m\u001b[43mfull_raise\u001b[49m\u001b[43m,\u001b[49m\u001b[43m \u001b[49m\u001b[43margs\u001b[49m\u001b[43m)\u001b[49m\u001b[43m,\u001b[49m\u001b[43m \u001b[49m\u001b[43mparams\u001b[49m\u001b[43m)\u001b[49m\n\u001b[1;32m    426\u001b[0m   \u001b[38;5;28;01mreturn\u001b[39;00m \u001b[38;5;28mmap\u001b[39m(full_lower, out) \u001b[38;5;28;01mif\u001b[39;00m \u001b[38;5;28mself\u001b[39m\u001b[38;5;241m.\u001b[39mmultiple_results \u001b[38;5;28;01melse\u001b[39;00m full_lower(out)\n",
                  "File \u001b[0;32m~/micromamba/envs/develop311/lib/python3.11/site-packages/jax/_src/core.py:913\u001b[0m, in \u001b[0;36mEvalTrace.process_primitive\u001b[0;34m(self, primitive, tracers, params)\u001b[0m\n\u001b[1;32m    912\u001b[0m \u001b[38;5;28;01mdef\u001b[39;00m \u001b[38;5;21mprocess_primitive\u001b[39m(\u001b[38;5;28mself\u001b[39m, primitive, tracers, params):\n\u001b[0;32m--> 913\u001b[0m   \u001b[38;5;28;01mreturn\u001b[39;00m \u001b[43mprimitive\u001b[49m\u001b[38;5;241;43m.\u001b[39;49m\u001b[43mimpl\u001b[49m\u001b[43m(\u001b[49m\u001b[38;5;241;43m*\u001b[39;49m\u001b[43mtracers\u001b[49m\u001b[43m,\u001b[49m\u001b[43m \u001b[49m\u001b[38;5;241;43m*\u001b[39;49m\u001b[38;5;241;43m*\u001b[39;49m\u001b[43mparams\u001b[49m\u001b[43m)\u001b[49m\n",
                  "File \u001b[0;32m~/micromamba/envs/develop311/lib/python3.11/site-packages/jax/_src/pjit.py:1494\u001b[0m, in \u001b[0;36m_pjit_call_impl\u001b[0;34m(jaxpr, in_shardings, out_shardings, resource_env, donated_invars, name, keep_unused, inline, *args)\u001b[0m\n\u001b[1;32m   1488\u001b[0m   \u001b[38;5;28;01mreturn\u001b[39;00m xc\u001b[38;5;241m.\u001b[39m_xla\u001b[38;5;241m.\u001b[39mpjit(\n\u001b[1;32m   1489\u001b[0m       name, f, call_impl_cache_miss, [], [], donated_argnums,\n\u001b[1;32m   1490\u001b[0m       tree_util\u001b[38;5;241m.\u001b[39mdispatch_registry,\n\u001b[1;32m   1491\u001b[0m       pxla\u001b[38;5;241m.\u001b[39mshard_arg \u001b[38;5;28;01mif\u001b[39;00m xla_extension_version \u001b[38;5;241m>\u001b[39m\u001b[38;5;241m=\u001b[39m \u001b[38;5;241m229\u001b[39m \u001b[38;5;28;01melse\u001b[39;00m pxla\u001b[38;5;241m.\u001b[39mtemp_shard_arg,  \u001b[38;5;66;03m# type: ignore\u001b[39;00m\n\u001b[1;32m   1492\u001b[0m       _get_cpp_global_cache(has_explicit_sharding))(\u001b[38;5;241m*\u001b[39margs)\n\u001b[1;32m   1493\u001b[0m \u001b[38;5;28;01melse\u001b[39;00m:\n\u001b[0;32m-> 1494\u001b[0m   \u001b[38;5;28;01mreturn\u001b[39;00m \u001b[43mxc\u001b[49m\u001b[38;5;241;43m.\u001b[39;49m\u001b[43m_xla\u001b[49m\u001b[38;5;241;43m.\u001b[39;49m\u001b[43mpjit\u001b[49m\u001b[43m(\u001b[49m\u001b[43mname\u001b[49m\u001b[43m,\u001b[49m\u001b[43m \u001b[49m\u001b[43mf\u001b[49m\u001b[43m,\u001b[49m\u001b[43m \u001b[49m\u001b[43mcall_impl_cache_miss\u001b[49m\u001b[43m,\u001b[49m\u001b[43m \u001b[49m\u001b[43m[\u001b[49m\u001b[43m]\u001b[49m\u001b[43m,\u001b[49m\u001b[43m \u001b[49m\u001b[43m[\u001b[49m\u001b[43m]\u001b[49m\u001b[43m,\u001b[49m\u001b[43m \u001b[49m\u001b[43mdonated_argnums\u001b[49m\u001b[43m,\u001b[49m\u001b[43m  \u001b[49m\u001b[38;5;66;43;03m# type: ignore\u001b[39;49;00m\n\u001b[1;32m   1495\u001b[0m \u001b[43m                      \u001b[49m\u001b[43mtree_util\u001b[49m\u001b[38;5;241;43m.\u001b[39;49m\u001b[43mdispatch_registry\u001b[49m\u001b[43m,\u001b[49m\n\u001b[1;32m   1496\u001b[0m \u001b[43m                      \u001b[49m\u001b[43m_get_cpp_global_cache\u001b[49m\u001b[43m(\u001b[49m\u001b[43mhas_explicit_sharding\u001b[49m\u001b[43m)\u001b[49m\u001b[43m)\u001b[49m\u001b[43m(\u001b[49m\u001b[38;5;241;43m*\u001b[39;49m\u001b[43margs\u001b[49m\u001b[43m)\u001b[49m\n",
                  "File \u001b[0;32m~/micromamba/envs/develop311/lib/python3.11/site-packages/jax/_src/pjit.py:1471\u001b[0m, in \u001b[0;36m_pjit_call_impl.<locals>.call_impl_cache_miss\u001b[0;34m(*args_, **kwargs_)\u001b[0m\n\u001b[1;32m   1470\u001b[0m \u001b[38;5;28;01mdef\u001b[39;00m \u001b[38;5;21mcall_impl_cache_miss\u001b[39m(\u001b[38;5;241m*\u001b[39margs_, \u001b[38;5;241m*\u001b[39m\u001b[38;5;241m*\u001b[39mkwargs_):\n\u001b[0;32m-> 1471\u001b[0m   out_flat, compiled \u001b[38;5;241m=\u001b[39m \u001b[43m_pjit_call_impl_python\u001b[49m\u001b[43m(\u001b[49m\n\u001b[1;32m   1472\u001b[0m \u001b[43m      \u001b[49m\u001b[38;5;241;43m*\u001b[39;49m\u001b[43margs\u001b[49m\u001b[43m,\u001b[49m\u001b[43m \u001b[49m\u001b[43mjaxpr\u001b[49m\u001b[38;5;241;43m=\u001b[39;49m\u001b[43mjaxpr\u001b[49m\u001b[43m,\u001b[49m\u001b[43m \u001b[49m\u001b[43min_shardings\u001b[49m\u001b[38;5;241;43m=\u001b[39;49m\u001b[43min_shardings\u001b[49m\u001b[43m,\u001b[49m\n\u001b[1;32m   1473\u001b[0m \u001b[43m      \u001b[49m\u001b[43mout_shardings\u001b[49m\u001b[38;5;241;43m=\u001b[39;49m\u001b[43mout_shardings\u001b[49m\u001b[43m,\u001b[49m\u001b[43m \u001b[49m\u001b[43mresource_env\u001b[49m\u001b[38;5;241;43m=\u001b[39;49m\u001b[43mresource_env\u001b[49m\u001b[43m,\u001b[49m\n\u001b[1;32m   1474\u001b[0m \u001b[43m      \u001b[49m\u001b[43mdonated_invars\u001b[49m\u001b[38;5;241;43m=\u001b[39;49m\u001b[43mdonated_invars\u001b[49m\u001b[43m,\u001b[49m\u001b[43m \u001b[49m\u001b[43mname\u001b[49m\u001b[38;5;241;43m=\u001b[39;49m\u001b[43mname\u001b[49m\u001b[43m,\u001b[49m\u001b[43m \u001b[49m\u001b[43mkeep_unused\u001b[49m\u001b[38;5;241;43m=\u001b[39;49m\u001b[43mkeep_unused\u001b[49m\u001b[43m,\u001b[49m\n\u001b[1;32m   1475\u001b[0m \u001b[43m      \u001b[49m\u001b[43minline\u001b[49m\u001b[38;5;241;43m=\u001b[39;49m\u001b[43minline\u001b[49m\u001b[43m)\u001b[49m\n\u001b[1;32m   1476\u001b[0m   fastpath_data \u001b[38;5;241m=\u001b[39m _get_fastpath_data(\n\u001b[1;32m   1477\u001b[0m       compiled, tree_structure(out_flat), args, out_flat, [], jaxpr\u001b[38;5;241m.\u001b[39meffects,\n\u001b[1;32m   1478\u001b[0m       \u001b[38;5;28;01mNone\u001b[39;00m)\n\u001b[1;32m   1479\u001b[0m   \u001b[38;5;28;01mreturn\u001b[39;00m out_flat, fastpath_data\n",
                  "File \u001b[0;32m~/micromamba/envs/develop311/lib/python3.11/site-packages/jax/_src/pjit.py:1427\u001b[0m, in \u001b[0;36m_pjit_call_impl_python\u001b[0;34m(jaxpr, in_shardings, out_shardings, resource_env, donated_invars, name, keep_unused, inline, *args)\u001b[0m\n\u001b[1;32m   1421\u001b[0m   distributed_debug_log((\u001b[38;5;124m\"\u001b[39m\u001b[38;5;124mRunning pjit\u001b[39m\u001b[38;5;124m'\u001b[39m\u001b[38;5;124md function\u001b[39m\u001b[38;5;124m\"\u001b[39m, name),\n\u001b[1;32m   1422\u001b[0m                         (\u001b[38;5;124m\"\u001b[39m\u001b[38;5;124min_shardings\u001b[39m\u001b[38;5;124m\"\u001b[39m, in_shardings),\n\u001b[1;32m   1423\u001b[0m                         (\u001b[38;5;124m\"\u001b[39m\u001b[38;5;124mout_shardings\u001b[39m\u001b[38;5;124m\"\u001b[39m, out_shardings),\n\u001b[1;32m   1424\u001b[0m                         (\u001b[38;5;124m\"\u001b[39m\u001b[38;5;124mabstract args\u001b[39m\u001b[38;5;124m\"\u001b[39m, \u001b[38;5;28mmap\u001b[39m(xla\u001b[38;5;241m.\u001b[39mabstractify, args)),\n\u001b[1;32m   1425\u001b[0m                         (\u001b[38;5;124m\"\u001b[39m\u001b[38;5;124mfingerprint\u001b[39m\u001b[38;5;124m\"\u001b[39m, fingerprint))\n\u001b[1;32m   1426\u001b[0m \u001b[38;5;28;01mtry\u001b[39;00m:\n\u001b[0;32m-> 1427\u001b[0m   \u001b[38;5;28;01mreturn\u001b[39;00m \u001b[43mcompiled\u001b[49m\u001b[38;5;241;43m.\u001b[39;49m\u001b[43munsafe_call\u001b[49m\u001b[43m(\u001b[49m\u001b[38;5;241;43m*\u001b[39;49m\u001b[43margs\u001b[49m\u001b[43m)\u001b[49m, compiled\n\u001b[1;32m   1428\u001b[0m \u001b[38;5;28;01mexcept\u001b[39;00m \u001b[38;5;167;01mFloatingPointError\u001b[39;00m \u001b[38;5;28;01mas\u001b[39;00m e:\n\u001b[1;32m   1429\u001b[0m   \u001b[38;5;28;01massert\u001b[39;00m config\u001b[38;5;241m.\u001b[39mdebug_nans\u001b[38;5;241m.\u001b[39mvalue \u001b[38;5;129;01mor\u001b[39;00m config\u001b[38;5;241m.\u001b[39mdebug_infs\u001b[38;5;241m.\u001b[39mvalue  \u001b[38;5;66;03m# compiled_fun can only raise in this case\u001b[39;00m\n",
                  "File \u001b[0;32m~/micromamba/envs/develop311/lib/python3.11/site-packages/jax/_src/profiler.py:335\u001b[0m, in \u001b[0;36mannotate_function.<locals>.wrapper\u001b[0;34m(*args, **kwargs)\u001b[0m\n\u001b[1;32m    332\u001b[0m \u001b[38;5;129m@wraps\u001b[39m(func)\n\u001b[1;32m    333\u001b[0m \u001b[38;5;28;01mdef\u001b[39;00m \u001b[38;5;21mwrapper\u001b[39m(\u001b[38;5;241m*\u001b[39margs, \u001b[38;5;241m*\u001b[39m\u001b[38;5;241m*\u001b[39mkwargs):\n\u001b[1;32m    334\u001b[0m   \u001b[38;5;28;01mwith\u001b[39;00m TraceAnnotation(name, \u001b[38;5;241m*\u001b[39m\u001b[38;5;241m*\u001b[39mdecorator_kwargs):\n\u001b[0;32m--> 335\u001b[0m     \u001b[38;5;28;01mreturn\u001b[39;00m \u001b[43mfunc\u001b[49m\u001b[43m(\u001b[49m\u001b[38;5;241;43m*\u001b[39;49m\u001b[43margs\u001b[49m\u001b[43m,\u001b[49m\u001b[43m \u001b[49m\u001b[38;5;241;43m*\u001b[39;49m\u001b[38;5;241;43m*\u001b[39;49m\u001b[43mkwargs\u001b[49m\u001b[43m)\u001b[49m\n\u001b[1;32m    336\u001b[0m   \u001b[38;5;28;01mreturn\u001b[39;00m wrapper\n",
                  "File \u001b[0;32m~/micromamba/envs/develop311/lib/python3.11/site-packages/jax/_src/interpreters/pxla.py:1213\u001b[0m, in \u001b[0;36mExecuteReplicated.__call__\u001b[0;34m(self, *args)\u001b[0m\n\u001b[1;32m   1211\u001b[0m   \u001b[38;5;28mself\u001b[39m\u001b[38;5;241m.\u001b[39m_handle_token_bufs(result_token_bufs, sharded_runtime_token)\n\u001b[1;32m   1212\u001b[0m \u001b[38;5;28;01melse\u001b[39;00m:\n\u001b[0;32m-> 1213\u001b[0m   results \u001b[38;5;241m=\u001b[39m \u001b[38;5;28;43mself\u001b[39;49m\u001b[38;5;241;43m.\u001b[39;49m\u001b[43mxla_executable\u001b[49m\u001b[38;5;241;43m.\u001b[39;49m\u001b[43mexecute_sharded\u001b[49m\u001b[43m(\u001b[49m\u001b[43minput_bufs\u001b[49m\u001b[43m)\u001b[49m\n\u001b[1;32m   1214\u001b[0m \u001b[38;5;28;01mif\u001b[39;00m dispatch\u001b[38;5;241m.\u001b[39mneeds_check_special():\n\u001b[1;32m   1215\u001b[0m   out_arrays \u001b[38;5;241m=\u001b[39m results\u001b[38;5;241m.\u001b[39mdisassemble_into_single_device_arrays()\n",
                  "\u001b[0;31mKeyboardInterrupt\u001b[0m: "
               ]
            }
         ],
         "source": [
            "model.full_fit(df_inflation)"
         ]
      },
      {
         "cell_type": "code",
         "execution_count": null,
         "metadata": {},
         "outputs": [],
         "source": [
            "%load_ext line_profiler"
         ]
      },
      {
         "cell_type": "code",
         "execution_count": null,
         "metadata": {},
         "outputs": [
            {
               "name": "stderr",
               "output_type": "stream",
               "text": [
                  "  2%|▏         | 5/212 [00:25<17:42,  5.13s/it]\n"
               ]
            },
            {
               "name": "stdout",
               "output_type": "stream",
               "text": [
                  "*** KeyboardInterrupt exception caught in code being profiled."
               ]
            },
            {
               "name": "stdout",
               "output_type": "stream",
               "text": [
                  "Timer unit: 1e-09 s\n",
                  "\n",
                  "Total time: 37.0261 s\n",
                  "File: /home/maurits/private/seminar/seminartools/models/mucsvss_model.py\n",
                  "Function: _run_pf at line 295\n",
                  "\n",
                  "Line #      Hits         Time  Per Hit   % Time  Line Contents\n",
                  "==============================================================\n",
                  "   295                                               def _run_pf(self, data: pd.DataFrame):\n",
                  "   296                                                   \"\"\"\n",
                  "   297                                                   Run the particle filter on the data of a single country.\n",
                  "   298                                                   \"\"\"\n",
                  "   299         1     638867.0 638867.0      0.0          key = random.PRNGKey(42)\n",
                  "   300                                           \n",
                  "   301         1     531514.0 531514.0      0.0          self.countries = data[self.country_column].unique().tolist()  # n countries\n",
                  "   302         1        491.0    491.0      0.0          n = len(self.countries)\n",
                  "   303         1     392572.0 392572.0      0.0          self.times = sorted(data[self.date_column].unique().tolist())  # T timesteps\n",
                  "   304                                           \n",
                  "   305         1 9197216606.0    9e+09     24.8          self.corr = self._construct_corr_matrix(self.countries)\n",
                  "   306                                           \n",
                  "   307                                                   # pi = data[self.inflation_column].values * 100\n",
                  "   308         1     275321.0 275321.0      0.0          data[\"pi\"] = data[self.inflation_column] * 100\n",
                  "   309                                           \n",
                  "   310         1     254120.0 254120.0      0.0          key, subkey = random.split(key)\n",
                  "   311         1 2172369258.0    2e+09      5.9          X, W = self._construct_initial_X_W(subkey, n, len(self.times))\n",
                  "   312                                                   # X: T x particles x 7*n\n",
                  "   313                                                   # W: T x particles\n",
                  "   314                                           \n",
                  "   315                                                   # Seasonality indicator function\n",
                  "   316                                                   # we determine which modulo corresponds to Q1\n",
                  "   317         1       4588.0   4588.0      0.0          t0_season = (self.times[0].month - 1) // 3\n",
                  "   318                                           \n",
                  "   319                                                   # update_particles = jit(\n",
                  "   320                                                   #     vmap(\n",
                  "   321                                                   #         update_single_particle,\n",
                  "   322                                                   #         in_axes=(0, None, None, 0),\n",
                  "   323                                                   #         out_axes=0,\n",
                  "   324                                                   #     ),\n",
                  "   325                                                   #     static_argnums=(2,),\n",
                  "   326                                                   # )\n",
                  "   327                                           \n",
                  "   328                                                   # jit_update_single_particle = jit(update_single_particle, static_argnums=(3,))\n",
                  "   329                                                   # Wrapper function that uses vmap to vectorize update_single_particle over particles in a shard\n",
                  "   330                                                   # We broadcast everything except the particles and keys\n",
                  "   331         2      68200.0  34100.0      0.0          update_particles_shard = vmap(\n",
                  "   332                                                       # jit(MUCSVSSModel._update_single_particle, static_argnums=(2, 3, 4, 5)),\n",
                  "   333         1       2605.0   2605.0      0.0              MUCSVSSModel._update_single_particle,\n",
                  "   334         1        481.0    481.0      0.0              in_axes=(0, None, None, None, None, None, None, 0),\n",
                  "   335         1        100.0    100.0      0.0              out_axes=0,\n",
                  "   336                                                   )\n",
                  "   337                                                   # pmap to parallelize over devices\n",
                  "   338                                                   # n, self.gamma, self.theta, t0_season, self.corr.values are always constant\n",
                  "   339         2      76205.0  38102.5      0.0          update_particles_parallel = pmap(\n",
                  "   340         1        100.0    100.0      0.0              update_particles_shard,\n",
                  "   341         1        401.0    401.0      0.0              in_axes=(0, None, None, None, None, None, None, 0),\n",
                  "   342         1         80.0     80.0      0.0              static_broadcasted_argnums=(2, 3, 4, 5),\n",
                  "   343                                                   )\n",
                  "   344                                           \n",
                  "   345                                                   # History of tau + delta_1 * seas_1 + ... + delta_4 * seas_4\n",
                  "   346         1        120.0    120.0      0.0          etauplusdeltas = []\n",
                  "   347         7    4667886.0 666840.9      0.0          for t, corresponding_time in tqdm(\n",
                  "   348         1       2645.0   2645.0      0.0              zip(range(1, len(self.times) + 1), self.times), total=len(self.times)\n",
                  "   349                                                   ):\n",
                  "   350                                                       # Step 1: predict and update\n",
                  "   351        12   12454897.0    1e+06      0.0              W = W.at[t, :].set(\n",
                  "   352         6    2891396.0 481899.3      0.0                  jnp.full(self.num_particles, -jnp.log(self.num_particles))\n",
                  "   353                                                       )\n",
                  "   354                                           \n",
                  "   355         6     954234.0 159039.0      0.0              key, subkey = random.split(key)\n",
                  "   356         6    5831994.0 971999.0      0.0              subkeys = random.split(subkey, self.num_particles)\n",
                  "   357                                                       # Old: simple vmap update_particles\n",
                  "   358                                                       # X = X.at[t, :, :].set(update_particles(X[t - 1, :, :], t, n, subkeys))\n",
                  "   359        12     974413.0  81201.1      0.0              subkeys_reshaped = subkeys.reshape(\n",
                  "   360         6       7255.0   1209.2      0.0                  self.n_devices, self.n_particles_per_device, -1\n",
                  "   361                                                       )\n",
                  "   362        12  561070163.0    5e+07      1.5              Xtminus1_reshaped = X[t-1, :, :].reshape(\n",
                  "   363         6      13406.0   2234.3      0.0                  self.n_devices, self.n_particles_per_device, -1\n",
                  "   364                                                       )\n",
                  "   365        12 6370375161.0    5e+08     17.2              X_updated = update_particles_parallel(\n",
                  "   366         6       1664.0    277.3      0.0                  Xtminus1_reshaped,\n",
                  "   367         6       4740.0    790.0      0.0                  t,\n",
                  "   368         6       1985.0    330.8      0.0                  n,\n",
                  "   369         6      12733.0   2122.2      0.0                  self.gamma,\n",
                  "   370         6       7244.0   1207.3      0.0                  self.theta,\n",
                  "   371         6       4657.0    776.2      0.0                  t0_season,\n",
                  "   372         6     228421.0  38070.2      0.0                  self.corr.values,\n",
                  "   373         6        665.0    110.8      0.0                  subkeys_reshaped,\n",
                  "   374                                                       )\n",
                  "   375         6 8873605999.0    1e+09     24.0              X = X.at[t, :, :].set(X_updated.reshape(self.num_particles, 7 * n))\n",
                  "   376                                           \n",
                  "   377                                                       # Mean of pi is tau + delta_1 * seas_1 + ... + delta_4 * seas_4\n",
                  "   378                                                       # T x n matrix\n",
                  "   379         6      17213.0   2868.8      0.0              mean_vals = (\n",
                  "   380        30   49820798.0    2e+06      0.1                  X[t, :, 0:n]\n",
                  "   381         6  113696037.0    2e+07      0.3                  + X[t, :, 3 * n : 4 * n] * MUCSVSSModel._seas(0, t, t0_season)\n",
                  "   382         6   90243987.0    2e+07      0.2                  + X[t, :, 4 * n : 5 * n] * MUCSVSSModel._seas(1, t, t0_season)\n",
                  "   383         6   90672702.0    2e+07      0.2                  + X[t, :, 5 * n : 6 * n] * MUCSVSSModel._seas(2, t, t0_season)\n",
                  "   384         6   90664196.0    2e+07      0.2                  + X[t, :, 6 * n : 7 * n] * MUCSVSSModel._seas(3, t, t0_season)\n",
                  "   385                                                       )\n",
                  "   386         6   17306006.0    3e+06      0.0              etauplusdeltas.append(jnp.mean(mean_vals, axis=0))\n",
                  "   387        12    3354072.0 279506.0      0.0              scale_vals = jnp.sqrt(\n",
                  "   388         6   23777762.0    4e+06      0.1                  jnp.exp(X[t, :, n : 2 * n])\n",
                  "   389                                                       )  # 1*n:2*n corresponds to lnsetasq\n",
                  "   390                                                       # T x n as well\n",
                  "   391                                           \n",
                  "   392         6    4021265.0 670210.8      0.0              current_timestep_data = data[data[self.date_column] == corresponding_time]\n",
                  "   393        12     136658.0  11388.2      0.0              current_country_idxs = [\n",
                  "   394                                                           self.countries.index(country)\n",
                  "   395         6     258079.0  43013.2      0.0                  for country in current_timestep_data[\"country\"]\n",
                  "   396                                                       ]\n",
                  "   397                                           \n",
                  "   398                                                       # T x len(current_country_idxs)\n",
                  "   399         6   19076525.0    3e+06      0.1              mean_vals = mean_vals[:, current_country_idxs]\n",
                  "   400         6   15030244.0    3e+06      0.0              scale_vals = scale_vals[:, current_country_idxs]\n",
                  "   401                                           \n",
                  "   402                                                       # TODO: multivariate normal pdf\n",
                  "   403        12   16193796.0    1e+06      0.0              W = W.at[t, :].set(\n",
                  "   404        12    2386063.0 198838.6      0.0                  W[t, :]\n",
                  "   405        12   19618719.0    2e+06      0.1                  + jnp.sum(\n",
                  "   406        12   56504255.0    5e+06      0.2                      norm.logpdf(\n",
                  "   407         6     426507.0  71084.5      0.0                          current_timestep_data[\"pi\"].values,\n",
                  "   408         6        772.0    128.7      0.0                          loc=mean_vals,\n",
                  "   409         6        521.0     86.8      0.0                          scale=scale_vals,\n",
                  "   410                                                               ),\n",
                  "   411         6       2572.0    428.7      0.0                      axis=1,\n",
                  "   412                                                           )\n",
                  "   413                                                       )\n",
                  "   414                                           \n",
                  "   415                                                       # For numerical stability, we subtract the max value from the log weights\n",
                  "   416         6    2154183.0 359030.5      0.0              max_W = jnp.max(W[t, :])\n",
                  "   417         6   11851650.0    2e+06      0.0              W = W.at[t, :].set(W[t, :] - max_W)\n",
                  "   418         6   12201006.0    2e+06      0.0              W = W.at[t, :].set(jnp.exp(W[t, :]))\n",
                  "   419         6   13184153.0    2e+06      0.0              W = W.at[t, :].set(W[t, :] / jnp.sum(W[t, :]))\n",
                  "   420                                           \n",
                  "   421         6    1946701.0 324450.2      0.0              if jnp.sum(W[t, :]) == 0:\n",
                  "   422                                                           print(\"WARNING: All weights are zero. Resampling will fail.\")\n",
                  "   423                                                           print(f\"(t = {t}, corresponding_time = {corresponding_time})\")\n",
                  "   424                                           \n",
                  "   425                                                       # Step 2: resample\n",
                  "   426         6     830651.0 138441.8      0.0              key, subkey = random.split(key)\n",
                  "   427        12   38012347.0    3e+06      0.1              indices = random.choice(\n",
                  "   428         6      13695.0   2282.5      0.0                  a=self.num_particles,\n",
                  "   429         6       1092.0    182.0      0.0                  shape=(self.num_particles,),\n",
                  "   430         6        972.0    162.0      0.0                  replace=True,\n",
                  "   431         6    1380469.0 230078.2      0.0                  p=W[t, :],\n",
                  "   432         6       1073.0    178.8      0.0                  key=subkey,\n",
                  "   433                                                       )\n",
                  "   434                                           \n",
                  "   435                                                       # back to log space\n",
                  "   436         6   11888365.0    2e+06      0.0              W = W.at[t, :].set(jnp.log(W[t, :]))\n",
                  "   437                                           \n",
                  "   438         6 9114482110.0    2e+09     24.6              X = X.at[t, :, :].set(X[t, indices, :])\n",
                  "   439                                           \n",
                  "   440                                                   if self.aggregation_method == \"median\":\n",
                  "   441                                                       out = pd.DataFrame(\n",
                  "   442                                                           {\n",
                  "   443                                                               \"date\": self.times,\n",
                  "   444                                                               \"etau\": jnp.median(X[1:, :, 0:n], axis=1)\n",
                  "   445                                                               / 100,  # convert back to percentage\n",
                  "   446                                                               \"etauplusdeltas\": etauplusdeltas,  # TODO\n",
                  "   447                                                               \"elnsetasq\": jnp.median(\n",
                  "   448                                                                   X[1:, :, n : 2 * n], axis=1\n",
                  "   449                                                               ),  # OTHER SCALE!\n",
                  "   450                                                               \"esigmaeta\": jnp.median(\n",
                  "   451                                                                   jnp.sqrt(jnp.exp(X[1:, :, n : 2 * n])), axis=1\n",
                  "   452                                                               ),\n",
                  "   453                                                               \"elnsepsilonsq\": jnp.median(X[1:, :, 2 * n : 3 * n], axis=1),\n",
                  "   454                                                               \"esigmaepsilon\": jnp.median(\n",
                  "   455                                                                   jnp.sqrt(jnp.exp(X[1:, :, 2 * n : 3 * n])), axis=1\n",
                  "   456                                                               ),\n",
                  "   457                                                               \"edelta1\": jnp.median(X[1:, :, 3 * n : 4 * n], axis=1) / 100,\n",
                  "   458                                                               \"edelta2\": jnp.median(X[1:, :, 4 * n : 4 * n], axis=1) / 100,\n",
                  "   459                                                               \"edelta3\": jnp.median(X[1:, :, 5 * n : 6 * n], axis=1) / 100,\n",
                  "   460                                                               \"edelta4\": jnp.median(X[1:, :, 6 * n : 7 * n], axis=1) / 100,\n",
                  "   461                                                               \"meff\": 1 / jnp.sum(W[1:, :] ** 2, axis=1),\n",
                  "   462                                                               # \"inflation\": data[\"inflation\"].values,\n",
                  "   463                                                               \"inflation\": data.groupby(self.date_column)[self.inflation_column]\n",
                  "   464                                                               .median()\n",
                  "   465                                                               .values,\n",
                  "   466                                                               \"country\": jnp.repeat(jnp.array(self.countries), len(self.times)),\n",
                  "   467                                                           }\n",
                  "   468                                                       )\n",
                  "   469                                                   elif self.aggregation_method == \"distribution\":\n",
                  "   470                                                       raise NotImplementedError(\n",
                  "   471                                                           \"Distribution aggregation not implemented yet for MUCSVSS model.\"\n",
                  "   472                                                       )\n",
                  "   473                                           \n",
                  "   474                                                       def getPDFRow(row):\n",
                  "   475                                                           pdf = gaussian_kde(row)\n",
                  "   476                                                           return pdf\n",
                  "   477                                           \n",
                  "   478                                                       out = pd.DataFrame(\n",
                  "   479                                                           {\n",
                  "   480                                                               \"date\": data[\"date\"].values,\n",
                  "   481                                                               \"etau\": np.apply_along_axis(\n",
                  "   482                                                                   getPDFRow, axis=1, arr=(X[1:, :, 0] / 100)\n",
                  "   483                                                               ),  # convert back to percentage\n",
                  "   484                                                               \"etauplusdeltas\": etauplusdeltas,  # TODO\n",
                  "   485                                                               \"elnsetasq\": np.apply_along_axis(\n",
                  "   486                                                                   getPDFRow, axis=1, arr=(X[1:, :, 1])\n",
                  "   487                                                               ),  # OTHER SCALE!\n",
                  "   488                                                               \"esigmaeta\": np.apply_along_axis(\n",
                  "   489                                                                   getPDFRow, axis=1, arr=(np.sqrt(np.exp(X[1:, :, 1])))\n",
                  "   490                                                               ),\n",
                  "   491                                                               \"elnsepsilonsq\": np.apply_along_axis(\n",
                  "   492                                                                   getPDFRow, axis=1, arr=(X[1:, :, 2])\n",
                  "   493                                                               ),\n",
                  "   494                                                               \"esigmaepsilon\": np.apply_along_axis(\n",
                  "   495                                                                   getPDFRow, axis=1, arr=(np.sqrt(np.exp(X[1:, :, 2])))\n",
                  "   496                                                               ),\n",
                  "   497                                                               \"edelta1\": np.apply_along_axis(\n",
                  "   498                                                                   getPDFRow, axis=1, arr=(X[1:, :, 3] / 100)\n",
                  "   499                                                               ),\n",
                  "   500                                                               \"edelta2\": np.apply_along_axis(\n",
                  "   501                                                                   getPDFRow, axis=1, arr=(X[1:, :, 4] / 100)\n",
                  "   502                                                               ),\n",
                  "   503                                                               \"edelta3\": np.apply_along_axis(\n",
                  "   504                                                                   getPDFRow, axis=1, arr=(X[1:, :, 5] / 100)\n",
                  "   505                                                               ),\n",
                  "   506                                                               \"edelta4\": np.apply_along_axis(\n",
                  "   507                                                                   getPDFRow, axis=1, arr=(X[1:, :, 6] / 100)\n",
                  "   508                                                               ),\n",
                  "   509                                                               \"meff\": 1 / np.sum(W[1:, :] ** 2, axis=1),\n",
                  "   510                                                               \"inflation\": data[\"inflation\"].values,\n",
                  "   511                                                           }\n",
                  "   512                                                       )\n",
                  "   513                                           \n",
                  "   514                                                   # out[self.country_column] = data[self.country_column].iloc[0]\n",
                  "   515                                           \n",
                  "   516                                                   return out.set_index([self.country_column, self.date_column])"
               ]
            }
         ],
         "source": [
            "%lprun -f model._run_pf model.full_fit(df_inflation)"
         ]
      },
      {
         "cell_type": "code",
         "execution_count": null,
         "metadata": {},
         "outputs": [],
         "source": [
            "import seaborn as sns\n",
            "# 2 decimals. thin column width\n",
            "model.corr.style.format(precision = 2).background_gradient(cmap='coolwarm', axis=None)"
         ]
      },
      {
         "cell_type": "code",
         "execution_count": null,
         "metadata": {},
         "outputs": [],
         "source": [
            "model.stored_state_means"
         ]
      },
      {
         "cell_type": "markdown",
         "metadata": {},
         "source": [
            "# 3. Evaluation"
         ]
      },
      {
         "cell_type": "code",
         "execution_count": null,
         "metadata": {},
         "outputs": [],
         "source": [
            "df_inflation[\"country\"].unique()"
         ]
      },
      {
         "cell_type": "code",
         "execution_count": null,
         "metadata": {},
         "outputs": [],
         "source": [
            "model.stored_state_means[\"etau\"][\"United States\"].plot()\n",
            "df_inflation.query(\"country == 'United States'\").set_index(\"date\")[\"inflation\"].plot()"
         ]
      },
      {
         "cell_type": "markdown",
         "metadata": {},
         "source": [
            "# 4. H-period ahead forecasting"
         ]
      },
      {
         "cell_type": "code",
         "execution_count": null,
         "metadata": {},
         "outputs": [],
         "source": [
            "df_inflation"
         ]
      },
      {
         "cell_type": "code",
         "execution_count": null,
         "metadata": {},
         "outputs": [],
         "source": [
            "model.predict(df_inflation.query(\"date <= '2022-10-1'\"))"
         ]
      },
      {
         "cell_type": "code",
         "execution_count": null,
         "metadata": {},
         "outputs": [],
         "source": [
            "from seminartools.models.utils import h_period_ahead_forecast\n",
            "\n",
            "forecast = h_period_ahead_forecast(model, df_inflation, \"2010-01-01\", h=1)\n",
            "forecast"
         ]
      },
      {
         "cell_type": "code",
         "execution_count": null,
         "metadata": {},
         "outputs": [],
         "source": [
            "model.stored_state_means.loc[\"United States\"][[\"edelta1\", \"edelta2\", \"edelta3\", \"edelta4\"]].plot()"
         ]
      },
      {
         "cell_type": "code",
         "execution_count": null,
         "metadata": {},
         "outputs": [],
         "source": [
            "import matplotlib.pyplot as plt\n",
            "forecast.query(\"country == 'United States'\").set_index(\"date\")['inflation'].plot(label = \"forecast 1 ahead\")\n",
            "df_inflation.query(\"country == 'United States' and date >= '2010-01-01'\").set_index(\"date\")['inflation'].plot(label = \"actual\")\n",
            "model.stored_state_means.loc[\"United States\"].loc[\"2010-01-01\":][\"etau\"].plot(label = \"tau\")\n",
            "plt.legend()\n",
            "plt.title(\"Forecasts, tau and actual inflation for the US\")"
         ]
      },
      {
         "cell_type": "code",
         "execution_count": null,
         "metadata": {},
         "outputs": [],
         "source": [
            "import seaborn as sns\n",
            "sns.lineplot(\n",
            "    data = model.stored_state_means[\"etau\"].to_frame().reset_index(),\n",
            "    x = \"date\",\n",
            "    y = \"etau\",\n",
            "    hue = \"country\"\n",
            ")\n",
            "plt.legend().remove()\n",
            "plt.title(\"Tau over time per country\")"
         ]
      },
      {
         "cell_type": "code",
         "execution_count": null,
         "metadata": {},
         "outputs": [],
         "source": [
            "import seaborn as sns\n",
            "import matplotlib.pyplot as plt\n",
            "\n",
            "sns.lineplot(\n",
            "    data = forecast,\n",
            "    x = \"date\",\n",
            "    y = \"inflation\",\n",
            "    hue = \"country\"\n",
            ")\n",
            "# turn off legend\n",
            "plt.legend().remove()"
         ]
      },
      {
         "cell_type": "code",
         "execution_count": null,
         "metadata": {},
         "outputs": [],
         "source": [
            "model.stored_state_means.loc[\"United States\"][[\"edelta1\", \"edelta2\", \"edelta3\", \"edelta4\"]].plot()\n",
            "plt.title(\"Delta over time for the US\")\n",
            "plt.tight_layout()\n",
            "plt.savefig(\"../../Figures/delta_over_time.png\", dpi = 300)"
         ]
      },
      {
         "cell_type": "markdown",
         "metadata": {},
         "source": [
            "# 5. Compare the forecast with the actual data"
         ]
      },
      {
         "cell_type": "code",
         "execution_count": null,
         "metadata": {},
         "outputs": [],
         "source": [
            "forecast_merged = forecast.copy().rename(columns={\"inflation\": \"pred\"})\n",
            "forecast_merged = forecast_merged.merge(\n",
            "    df_inflation[[\"country\", \"date\", \"inflation\"]],\n",
            "    on=[\"country\", \"date\"],\n",
            "    how=\"left\",\n",
            ").rename(columns={\"inflation\": \"actual\"})\n",
            "forecast_merged.tail(100)"
         ]
      },
      {
         "cell_type": "code",
         "execution_count": null,
         "metadata": {},
         "outputs": [],
         "source": [
            "sns.scatterplot(\n",
            "    data = forecast_merged,\n",
            "    x = \"pred\",\n",
            "    y = \"actual\",\n",
            "    hue = \"country\"\n",
            ")\n",
            "plt.legend().remove()"
         ]
      },
      {
         "cell_type": "code",
         "execution_count": null,
         "metadata": {},
         "outputs": [],
         "source": [
            "import statsmodels.api as sm\n",
            "\n",
            "sm.OLS(\n",
            "    forecast_merged[\"actual\"], sm.add_constant(forecast_merged[\"pred\"])\n",
            ").fit().summary()"
         ]
      },
      {
         "cell_type": "code",
         "execution_count": null,
         "metadata": {},
         "outputs": [],
         "source": [
            "#getDensities\n",
            "from seminartools.models.uc_sv_ss_model import UCSVSSModel\n",
            "modelDistribution = UCSVSSModel(num_particles=10000, stochastic_seasonality=True)\n",
            "modelDistribution.run_pf(df_inflation, aggregation_method = \"distribution\")\n"
         ]
      },
      {
         "cell_type": "code",
         "execution_count": null,
         "metadata": {},
         "outputs": [],
         "source": [
            "distributionForecast = h_period_ahead_forecast(modelDistribution, df_inflation, \"2010-01-01\", h=1)\n"
         ]
      },
      {
         "cell_type": "code",
         "execution_count": null,
         "metadata": {},
         "outputs": [],
         "source": [
            "US_inflation = distributionForecast.query(\"country == 'United States'\").set_index(\"date\")['inflation']\n",
            "\n",
            "plt.plot(\n",
            "    US_inflation.iloc[-1][\"inflation_grid\"],\n",
            "    US_inflation.iloc[-1][\"pdf\"]\n",
            "    )"
         ]
      }
   ],
   "metadata": {
      "kernelspec": {
         "display_name": "develop",
         "language": "python",
         "name": "python3"
      },
      "language_info": {
         "codemirror_mode": {
            "name": "ipython",
            "version": 3
         },
         "file_extension": ".py",
         "mimetype": "text/x-python",
         "name": "python",
         "nbconvert_exporter": "python",
         "pygments_lexer": "ipython3",
         "version": "3.11.4"
      }
   },
   "nbformat": 4,
   "nbformat_minor": 2
}
