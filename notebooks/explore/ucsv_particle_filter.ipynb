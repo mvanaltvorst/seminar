{
 "cells": [
  {
   "cell_type": "markdown",
   "metadata": {},
   "source": [
    "# Unobserved components model with stochastic volatility - particle filter fit\n",
    "\n",
    "Hopefully better than MCMC"
   ]
  },
  {
   "cell_type": "markdown",
   "metadata": {},
   "source": [
    "# 1. Read data"
   ]
  },
  {
   "cell_type": "code",
   "execution_count": 1,
   "metadata": {},
   "outputs": [
    {
     "data": {
      "text/html": [
       "<div>\n",
       "<style scoped>\n",
       "    .dataframe tbody tr th:only-of-type {\n",
       "        vertical-align: middle;\n",
       "    }\n",
       "\n",
       "    .dataframe tbody tr th {\n",
       "        vertical-align: top;\n",
       "    }\n",
       "\n",
       "    .dataframe thead th {\n",
       "        text-align: right;\n",
       "    }\n",
       "</style>\n",
       "<table border=\"1\" class=\"dataframe\">\n",
       "  <thead>\n",
       "    <tr style=\"text-align: right;\">\n",
       "      <th></th>\n",
       "      <th>Country Code</th>\n",
       "      <th>IMF Country Code</th>\n",
       "      <th>Country</th>\n",
       "      <th>yearmonth</th>\n",
       "      <th>inflation</th>\n",
       "    </tr>\n",
       "  </thead>\n",
       "  <tbody>\n",
       "    <tr>\n",
       "      <th>8537</th>\n",
       "      <td>ESP</td>\n",
       "      <td>184</td>\n",
       "      <td>Spain</td>\n",
       "      <td>1970-04-01</td>\n",
       "      <td>0.000000</td>\n",
       "    </tr>\n",
       "    <tr>\n",
       "      <th>11635</th>\n",
       "      <td>GTM</td>\n",
       "      <td>258</td>\n",
       "      <td>Guatemala</td>\n",
       "      <td>1970-04-01</td>\n",
       "      <td>0.012577</td>\n",
       "    </tr>\n",
       "    <tr>\n",
       "      <th>1231</th>\n",
       "      <td>AUS</td>\n",
       "      <td>193</td>\n",
       "      <td>Australia</td>\n",
       "      <td>1970-04-01</td>\n",
       "      <td>0.011236</td>\n",
       "    </tr>\n",
       "    <tr>\n",
       "      <th>7708</th>\n",
       "      <td>DOM</td>\n",
       "      <td>243</td>\n",
       "      <td>Dominican Republic</td>\n",
       "      <td>1970-04-01</td>\n",
       "      <td>-0.001604</td>\n",
       "    </tr>\n",
       "    <tr>\n",
       "      <th>21697</th>\n",
       "      <td>NZL</td>\n",
       "      <td>196</td>\n",
       "      <td>New Zealand</td>\n",
       "      <td>1970-04-01</td>\n",
       "      <td>0.015421</td>\n",
       "    </tr>\n",
       "    <tr>\n",
       "      <th>...</th>\n",
       "      <td>...</td>\n",
       "      <td>...</td>\n",
       "      <td>...</td>\n",
       "      <td>...</td>\n",
       "      <td>...</td>\n",
       "    </tr>\n",
       "    <tr>\n",
       "      <th>16098</th>\n",
       "      <td>KOR</td>\n",
       "      <td>542</td>\n",
       "      <td>Korea, Rep.</td>\n",
       "      <td>2023-01-01</td>\n",
       "      <td>0.010538</td>\n",
       "    </tr>\n",
       "    <tr>\n",
       "      <th>15095</th>\n",
       "      <td>JPN</td>\n",
       "      <td>158</td>\n",
       "      <td>Japan</td>\n",
       "      <td>2023-01-01</td>\n",
       "      <td>0.004500</td>\n",
       "    </tr>\n",
       "    <tr>\n",
       "      <th>14347</th>\n",
       "      <td>ITA</td>\n",
       "      <td>136</td>\n",
       "      <td>Italy</td>\n",
       "      <td>2023-01-01</td>\n",
       "      <td>0.003938</td>\n",
       "    </tr>\n",
       "    <tr>\n",
       "      <th>21470</th>\n",
       "      <td>NOR</td>\n",
       "      <td>142</td>\n",
       "      <td>Norway</td>\n",
       "      <td>2023-01-01</td>\n",
       "      <td>0.006886</td>\n",
       "    </tr>\n",
       "    <tr>\n",
       "      <th>30650</th>\n",
       "      <td>ZAF</td>\n",
       "      <td>199</td>\n",
       "      <td>South Africa</td>\n",
       "      <td>2023-01-01</td>\n",
       "      <td>0.011202</td>\n",
       "    </tr>\n",
       "  </tbody>\n",
       "</table>\n",
       "<p>8480 rows × 5 columns</p>\n",
       "</div>"
      ],
      "text/plain": [
       "      Country Code  IMF Country Code             Country  yearmonth  inflation\n",
       "8537           ESP               184               Spain 1970-04-01   0.000000\n",
       "11635          GTM               258           Guatemala 1970-04-01   0.012577\n",
       "1231           AUS               193           Australia 1970-04-01   0.011236\n",
       "7708           DOM               243  Dominican Republic 1970-04-01  -0.001604\n",
       "21697          NZL               196         New Zealand 1970-04-01   0.015421\n",
       "...            ...               ...                 ...        ...        ...\n",
       "16098          KOR               542         Korea, Rep. 2023-01-01   0.010538\n",
       "15095          JPN               158               Japan 2023-01-01   0.004500\n",
       "14347          ITA               136               Italy 2023-01-01   0.003938\n",
       "21470          NOR               142              Norway 2023-01-01   0.006886\n",
       "30650          ZAF               199        South Africa 2023-01-01   0.011202\n",
       "\n",
       "[8480 rows x 5 columns]"
      ]
     },
     "execution_count": 1,
     "metadata": {},
     "output_type": "execute_result"
    }
   ],
   "source": [
    "import pandas as pd\n",
    "from seminartools.data import read_inflation\n",
    "\n",
    "df = read_inflation()\n",
    "df"
   ]
  },
  {
   "cell_type": "code",
   "execution_count": 2,
   "metadata": {},
   "outputs": [
    {
     "name": "stderr",
     "output_type": "stream",
     "text": [
      "/tmp/ipykernel_4173242/2129217928.py:2: SettingWithCopyWarning: \n",
      "A value is trying to be set on a copy of a slice from a DataFrame.\n",
      "Try using .loc[row_indexer,col_indexer] = value instead\n",
      "\n",
      "See the caveats in the documentation: https://pandas.pydata.org/pandas-docs/stable/user_guide/indexing.html#returning-a-view-versus-a-copy\n",
      "  country_df[\"pi\"] = (1 + country_df[\"inflation\"]).cumprod()\n"
     ]
    },
    {
     "data": {
      "text/plain": [
       "<Axes: xlabel='yearmonth'>"
      ]
     },
     "execution_count": 2,
     "metadata": {},
     "output_type": "execute_result"
    },
    {
     "data": {
      "image/png": "[encoded data removed]",
      "text/plain": [
       "<Figure size 640x480 with 1 Axes>"
      ]
     },
     "metadata": {},
     "output_type": "display_data"
    }
   ],
   "source": [
    "country_df = df[df[\"Country\"] == \"Netherlands\"]\n",
    "country_df[\"pi\"] = (1 + country_df[\"inflation\"]).cumprod()\n",
    "country_df.set_index(\"yearmonth\")[\"pi\"].plot()"
   ]
  },
  {
   "cell_type": "code",
   "execution_count": 3,
   "metadata": {},
   "outputs": [
    {
     "data": {
      "text/plain": [
       "212"
      ]
     },
     "execution_count": 3,
     "metadata": {},
     "output_type": "execute_result"
    }
   ],
   "source": [
    "len(country_df)"
   ]
  },
  {
   "cell_type": "markdown",
   "metadata": {},
   "source": [
    "# 2. Construct PF"
   ]
  },
  {
   "cell_type": "code",
   "execution_count": null,
   "metadata": {},
   "outputs": [],
   "source": [
    "import numpy as np\n",
    "\n",
    "class UCSVPF:\n",
    "    def __init__(\n",
    "        self,\n",
    "        num_particles: int,\n",
    "    ):\n",
    "        self.num_particles = num_particles\n",
    "\n",
    "    def fit(self, data: pd.DataFrame):\n",
    "        particles = np.random.rand(self.num_particles, 4)"
   ]
  }
 ],
 "metadata": {
  "kernelspec": {
   "display_name": "develop",
   "language": "python",
   "name": "python3"
  },
  "language_info": {
   "codemirror_mode": {
    "name": "ipython",
    "version": 3
   },
   "file_extension": ".py",
   "mimetype": "text/x-python",
   "name": "python",
   "nbconvert_exporter": "python",
   "pygments_lexer": "ipython3",
   "version": "3.11.4"
  }
 },
 "nbformat": 4,
 "nbformat_minor": 2
}
