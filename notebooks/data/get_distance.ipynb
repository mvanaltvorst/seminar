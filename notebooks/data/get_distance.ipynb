{
 "cells": [
  {
   "cell_type": "code",
   "execution_count": null,
   "metadata": {},
   "outputs": [],
   "source": [
    "%load_ext autoreload\n",
    "%autoreload 2"
   ]
  },
  {
   "cell_type": "code",
   "execution_count": 5,
   "metadata": {},
   "outputs": [],
   "source": [
    "import pandas as pd\n",
    "from geopy.geocoders import Nominatim\n",
    "from geopy.distance import geodesic\n",
    "from seminartools.data import read_merged"
   ]
  },
  {
   "cell_type": "code",
   "execution_count": 6,
   "metadata": {},
   "outputs": [],
   "source": [
    "df = read_merged().reset_index()\n",
    "countries = (df[\"country\"].unique())"
   ]
  },
  {
   "cell_type": "markdown",
   "metadata": {},
   "source": [
    "# get distances and coordinates"
   ]
  },
  {
   "cell_type": "code",
   "execution_count": 7,
   "metadata": {},
   "outputs": [
    {
     "data": {
      "text/plain": [
       "190.62990457385075"
      ]
     },
     "execution_count": 7,
     "metadata": {},
     "output_type": "execute_result"
    }
   ],
   "source": [
    "# calling the Nominatim tool and create Nominatim class\n",
    "loc = Nominatim(user_agent=\"Geopy Library\")\n",
    "\n",
    "# entering the location name\n",
    "getLocA = loc.geocode(\"Netherlands\")\n",
    "getLocB = loc.geocode(\"Belgium\")\n",
    "\n",
    "geodesic((getLocA.latitude, getLocA.longitude), (getLocB.latitude, getLocB.longitude)).km\n"
   ]
  },
  {
   "cell_type": "code",
   "execution_count": 8,
   "metadata": {},
   "outputs": [
    {
     "data": {
      "text/plain": [
       "190.62990457385075"
      ]
     },
     "execution_count": 8,
     "metadata": {},
     "output_type": "execute_result"
    }
   ],
   "source": [
    "from seminartools.utils import geo_distance\n",
    "\n",
    "geo_distance(\"Netherlands\", \"Belgium\", use_geopy=True)\n"
   ]
  },
  {
   "cell_type": "code",
   "execution_count": 9,
   "metadata": {},
   "outputs": [
    {
     "data": {
      "text/plain": [
       "173.0333"
      ]
     },
     "execution_count": 9,
     "metadata": {},
     "output_type": "execute_result"
    }
   ],
   "source": [
    "geo_distance(\"Netherlands\", \"Belgium\")"
   ]
  },
  {
   "cell_type": "code",
   "execution_count": 10,
   "metadata": {},
   "outputs": [
    {
     "data": {
      "text/html": [
       "<div>\n",
       "<style scoped>\n",
       "    .dataframe tbody tr th:only-of-type {\n",
       "        vertical-align: middle;\n",
       "    }\n",
       "\n",
       "    .dataframe tbody tr th {\n",
       "        vertical-align: top;\n",
       "    }\n",
       "\n",
       "    .dataframe thead th {\n",
       "        text-align: right;\n",
       "    }\n",
       "</style>\n",
       "<table border=\"1\" class=\"dataframe\">\n",
       "  <thead>\n",
       "    <tr style=\"text-align: right;\">\n",
       "      <th></th>\n",
       "      <th>longitude</th>\n",
       "      <th>latitude</th>\n",
       "    </tr>\n",
       "  </thead>\n",
       "  <tbody>\n",
       "    <tr>\n",
       "      <th>Japan</th>\n",
       "      <td>139.239418</td>\n",
       "      <td>36.574844</td>\n",
       "    </tr>\n",
       "    <tr>\n",
       "      <th>Canada</th>\n",
       "      <td>-107.991707</td>\n",
       "      <td>61.066692</td>\n",
       "    </tr>\n",
       "    <tr>\n",
       "      <th>United States</th>\n",
       "      <td>-100.445882</td>\n",
       "      <td>39.783730</td>\n",
       "    </tr>\n",
       "    <tr>\n",
       "      <th>Australia</th>\n",
       "      <td>134.755000</td>\n",
       "      <td>-24.776109</td>\n",
       "    </tr>\n",
       "    <tr>\n",
       "      <th>New Zealand</th>\n",
       "      <td>172.834408</td>\n",
       "      <td>-41.500083</td>\n",
       "    </tr>\n",
       "    <tr>\n",
       "      <th>Switzerland</th>\n",
       "      <td>8.231974</td>\n",
       "      <td>46.798562</td>\n",
       "    </tr>\n",
       "    <tr>\n",
       "      <th>Italy</th>\n",
       "      <td>12.674297</td>\n",
       "      <td>42.638426</td>\n",
       "    </tr>\n",
       "    <tr>\n",
       "      <th>France</th>\n",
       "      <td>1.888334</td>\n",
       "      <td>46.603354</td>\n",
       "    </tr>\n",
       "    <tr>\n",
       "      <th>Portugal</th>\n",
       "      <td>-8.135352</td>\n",
       "      <td>39.662165</td>\n",
       "    </tr>\n",
       "    <tr>\n",
       "      <th>Spain</th>\n",
       "      <td>-4.837979</td>\n",
       "      <td>39.326068</td>\n",
       "    </tr>\n",
       "    <tr>\n",
       "      <th>Sweden</th>\n",
       "      <td>14.520858</td>\n",
       "      <td>59.674971</td>\n",
       "    </tr>\n",
       "    <tr>\n",
       "      <th>Denmark</th>\n",
       "      <td>10.333328</td>\n",
       "      <td>55.670249</td>\n",
       "    </tr>\n",
       "    <tr>\n",
       "      <th>United Kingdom</th>\n",
       "      <td>-3.276575</td>\n",
       "      <td>54.702354</td>\n",
       "    </tr>\n",
       "    <tr>\n",
       "      <th>Germany</th>\n",
       "      <td>10.447831</td>\n",
       "      <td>51.163818</td>\n",
       "    </tr>\n",
       "    <tr>\n",
       "      <th>Netherlands</th>\n",
       "      <td>5.634323</td>\n",
       "      <td>52.243498</td>\n",
       "    </tr>\n",
       "    <tr>\n",
       "      <th>Norway</th>\n",
       "      <td>11.528036</td>\n",
       "      <td>64.573154</td>\n",
       "    </tr>\n",
       "    <tr>\n",
       "      <th>Belgium</th>\n",
       "      <td>4.666715</td>\n",
       "      <td>50.640281</td>\n",
       "    </tr>\n",
       "    <tr>\n",
       "      <th>Korea</th>\n",
       "      <td>127.696119</td>\n",
       "      <td>36.638392</td>\n",
       "    </tr>\n",
       "    <tr>\n",
       "      <th>South Africa</th>\n",
       "      <td>24.991639</td>\n",
       "      <td>-28.816624</td>\n",
       "    </tr>\n",
       "    <tr>\n",
       "      <th>Türkiye</th>\n",
       "      <td>34.924965</td>\n",
       "      <td>38.959759</td>\n",
       "    </tr>\n",
       "  </tbody>\n",
       "</table>\n",
       "</div>"
      ],
      "text/plain": [
       "                 longitude   latitude\n",
       "Japan           139.239418  36.574844\n",
       "Canada         -107.991707  61.066692\n",
       "United States  -100.445882  39.783730\n",
       "Australia       134.755000 -24.776109\n",
       "New Zealand     172.834408 -41.500083\n",
       "Switzerland       8.231974  46.798562\n",
       "Italy            12.674297  42.638426\n",
       "France            1.888334  46.603354\n",
       "Portugal         -8.135352  39.662165\n",
       "Spain            -4.837979  39.326068\n",
       "Sweden           14.520858  59.674971\n",
       "Denmark          10.333328  55.670249\n",
       "United Kingdom   -3.276575  54.702354\n",
       "Germany          10.447831  51.163818\n",
       "Netherlands       5.634323  52.243498\n",
       "Norway           11.528036  64.573154\n",
       "Belgium           4.666715  50.640281\n",
       "Korea           127.696119  36.638392\n",
       "South Africa     24.991639 -28.816624\n",
       "Türkiye          34.924965  38.959759"
      ]
     },
     "execution_count": 10,
     "metadata": {},
     "output_type": "execute_result"
    }
   ],
   "source": [
    "#get longitude and latitude of countries\n",
    "loca = pd.DataFrame()\n",
    "for country in countries:\n",
    "    location = loc.geocode(country)\n",
    "    frame = pd.DataFrame({'longitude': location.longitude, 'latitude': location.latitude}, index = [country])\n",
    "    loca = pd.concat([loca,frame], axis = 0)\n",
    "loca"
   ]
  }
 ],
 "metadata": {
  "kernelspec": {
   "display_name": "Python 3",
   "language": "python",
   "name": "python3"
  },
  "language_info": {
   "codemirror_mode": {
    "name": "ipython",
    "version": 3
   },
   "file_extension": ".py",
   "mimetype": "text/x-python",
   "name": "python",
   "nbconvert_exporter": "python",
   "pygments_lexer": "ipython3",
   "version": "3.12.0"
  }
 },
 "nbformat": 4,
 "nbformat_minor": 2
}
