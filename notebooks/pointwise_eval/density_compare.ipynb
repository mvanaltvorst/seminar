{
 "cells": [
  {
   "cell_type": "code",
   "execution_count": 83,
   "metadata": {},
   "outputs": [
    {
     "name": "stdout",
     "output_type": "stream",
     "text": [
      "The autoreload extension is already loaded. To reload it, use:\n",
      "  %reload_ext autoreload\n"
     ]
    }
   ],
   "source": [
    "%load_ext autoreload\n",
    "%autoreload 2"
   ]
  },
  {
   "cell_type": "code",
   "execution_count": 84,
   "metadata": {},
   "outputs": [],
   "source": [
    "from seminartools.models.distance_model import DistanceModel\n",
    "from seminartools.models.random_effects_model import RandomEffectsModel\n",
    "from seminartools.models.uc_sv_ss_model import UCSVSSModel\n",
    "from seminartools.data import read_merged\n",
    "import pandas as pd"
   ]
  },
  {
   "cell_type": "code",
   "execution_count": 85,
   "metadata": {},
   "outputs": [
    {
     "name": "stderr",
     "output_type": "stream",
     "text": [
      "c:\\users\\vandi\\onedrive\\documenten\\github\\seminar\\seminartools\\data.py:161: FutureWarning: 'Q' is deprecated and will be removed in a future version, please use 'QE' instead.\n",
      "  df = df.resample(\"Q\").apply(lambda x: (1 + x).prod() - 1)  # quarterly return\n",
      "c:\\users\\vandi\\onedrive\\documenten\\github\\seminar\\seminartools\\data.py:397: FutureWarning: 'Q' is deprecated and will be removed in a future version, please use 'QE' instead.\n",
      "  df = df.resample(\"Q\").mean()  # Mean interest rate\n"
     ]
    },
    {
     "data": {
      "text/html": [
       "<div>\n",
       "<style scoped>\n",
       "    .dataframe tbody tr th:only-of-type {\n",
       "        vertical-align: middle;\n",
       "    }\n",
       "\n",
       "    .dataframe tbody tr th {\n",
       "        vertical-align: top;\n",
       "    }\n",
       "\n",
       "    .dataframe thead th {\n",
       "        text-align: right;\n",
       "    }\n",
       "</style>\n",
       "<table border=\"1\" class=\"dataframe\">\n",
       "  <thead>\n",
       "    <tr style=\"text-align: right;\">\n",
       "      <th></th>\n",
       "      <th>country</th>\n",
       "      <th>date</th>\n",
       "      <th>inflation</th>\n",
       "      <th>gdp_growth</th>\n",
       "      <th>interest_rate</th>\n",
       "      <th>unemployment_rate</th>\n",
       "      <th>commodity_CRUDE_PETRO</th>\n",
       "      <th>commodity_iNATGAS</th>\n",
       "      <th>commodity_iAGRICULTURE</th>\n",
       "      <th>commodity_iMETMIN</th>\n",
       "      <th>commodity_iPRECIOUSMET</th>\n",
       "    </tr>\n",
       "  </thead>\n",
       "  <tbody>\n",
       "    <tr>\n",
       "      <th>0</th>\n",
       "      <td>Japan</td>\n",
       "      <td>1977-01-01</td>\n",
       "      <td>0.022951</td>\n",
       "      <td>2.187257</td>\n",
       "      <td>6.333333</td>\n",
       "      <td>2.3</td>\n",
       "      <td>0.00000</td>\n",
       "      <td>0.052425</td>\n",
       "      <td>0.144757</td>\n",
       "      <td>0.041940</td>\n",
       "      <td>0.112740</td>\n",
       "    </tr>\n",
       "    <tr>\n",
       "      <th>1</th>\n",
       "      <td>Canada</td>\n",
       "      <td>1977-01-01</td>\n",
       "      <td>0.023904</td>\n",
       "      <td>1.533830</td>\n",
       "      <td>8.166667</td>\n",
       "      <td>8.8</td>\n",
       "      <td>0.00000</td>\n",
       "      <td>0.052425</td>\n",
       "      <td>0.144757</td>\n",
       "      <td>0.041940</td>\n",
       "      <td>0.112740</td>\n",
       "    </tr>\n",
       "    <tr>\n",
       "      <th>2</th>\n",
       "      <td>United States</td>\n",
       "      <td>1977-01-01</td>\n",
       "      <td>0.017231</td>\n",
       "      <td>1.186233</td>\n",
       "      <td>4.700000</td>\n",
       "      <td>8.2</td>\n",
       "      <td>0.00000</td>\n",
       "      <td>0.052425</td>\n",
       "      <td>0.144757</td>\n",
       "      <td>0.041940</td>\n",
       "      <td>0.112740</td>\n",
       "    </tr>\n",
       "    <tr>\n",
       "      <th>3</th>\n",
       "      <td>Japan</td>\n",
       "      <td>1977-04-01</td>\n",
       "      <td>0.027244</td>\n",
       "      <td>0.703788</td>\n",
       "      <td>5.000000</td>\n",
       "      <td>2.0</td>\n",
       "      <td>-0.00400</td>\n",
       "      <td>0.043586</td>\n",
       "      <td>-0.066688</td>\n",
       "      <td>-0.045412</td>\n",
       "      <td>-0.060029</td>\n",
       "    </tr>\n",
       "    <tr>\n",
       "      <th>4</th>\n",
       "      <td>Canada</td>\n",
       "      <td>1977-04-01</td>\n",
       "      <td>0.023346</td>\n",
       "      <td>0.510302</td>\n",
       "      <td>7.666667</td>\n",
       "      <td>8.0</td>\n",
       "      <td>-0.00400</td>\n",
       "      <td>0.043586</td>\n",
       "      <td>-0.066688</td>\n",
       "      <td>-0.045412</td>\n",
       "      <td>-0.060029</td>\n",
       "    </tr>\n",
       "    <tr>\n",
       "      <th>...</th>\n",
       "      <td>...</td>\n",
       "      <td>...</td>\n",
       "      <td>...</td>\n",
       "      <td>...</td>\n",
       "      <td>...</td>\n",
       "      <td>...</td>\n",
       "      <td>...</td>\n",
       "      <td>...</td>\n",
       "      <td>...</td>\n",
       "      <td>...</td>\n",
       "      <td>...</td>\n",
       "    </tr>\n",
       "    <tr>\n",
       "      <th>2166</th>\n",
       "      <td>Italy</td>\n",
       "      <td>2023-01-01</td>\n",
       "      <td>0.003938</td>\n",
       "      <td>0.552944</td>\n",
       "      <td>3.000000</td>\n",
       "      <td>8.3</td>\n",
       "      <td>-0.02041</td>\n",
       "      <td>-0.585458</td>\n",
       "      <td>0.002037</td>\n",
       "      <td>0.007418</td>\n",
       "      <td>0.043183</td>\n",
       "    </tr>\n",
       "    <tr>\n",
       "      <th>2167</th>\n",
       "      <td>Canada</td>\n",
       "      <td>2023-01-01</td>\n",
       "      <td>0.006080</td>\n",
       "      <td>0.610026</td>\n",
       "      <td>4.500000</td>\n",
       "      <td>5.4</td>\n",
       "      <td>-0.02041</td>\n",
       "      <td>-0.585458</td>\n",
       "      <td>0.002037</td>\n",
       "      <td>0.007418</td>\n",
       "      <td>0.043183</td>\n",
       "    </tr>\n",
       "    <tr>\n",
       "      <th>2168</th>\n",
       "      <td>Sweden</td>\n",
       "      <td>2023-01-01</td>\n",
       "      <td>0.014955</td>\n",
       "      <td>0.656897</td>\n",
       "      <td>2.833333</td>\n",
       "      <td>7.8</td>\n",
       "      <td>-0.02041</td>\n",
       "      <td>-0.585458</td>\n",
       "      <td>0.002037</td>\n",
       "      <td>0.007418</td>\n",
       "      <td>0.043183</td>\n",
       "    </tr>\n",
       "    <tr>\n",
       "      <th>2169</th>\n",
       "      <td>Korea</td>\n",
       "      <td>2023-01-01</td>\n",
       "      <td>0.010538</td>\n",
       "      <td>0.329875</td>\n",
       "      <td>3.500000</td>\n",
       "      <td>3.2</td>\n",
       "      <td>-0.02041</td>\n",
       "      <td>-0.585458</td>\n",
       "      <td>0.002037</td>\n",
       "      <td>0.007418</td>\n",
       "      <td>0.043183</td>\n",
       "    </tr>\n",
       "    <tr>\n",
       "      <th>2170</th>\n",
       "      <td>South Africa</td>\n",
       "      <td>2023-01-01</td>\n",
       "      <td>0.011202</td>\n",
       "      <td>0.406619</td>\n",
       "      <td>7.416667</td>\n",
       "      <td>28.1</td>\n",
       "      <td>-0.02041</td>\n",
       "      <td>-0.585458</td>\n",
       "      <td>0.002037</td>\n",
       "      <td>0.007418</td>\n",
       "      <td>0.043183</td>\n",
       "    </tr>\n",
       "  </tbody>\n",
       "</table>\n",
       "<p>2171 rows × 11 columns</p>\n",
       "</div>"
      ],
      "text/plain": [
       "            country       date  inflation  gdp_growth  interest_rate  \\\n",
       "0             Japan 1977-01-01   0.022951    2.187257       6.333333   \n",
       "1            Canada 1977-01-01   0.023904    1.533830       8.166667   \n",
       "2     United States 1977-01-01   0.017231    1.186233       4.700000   \n",
       "3             Japan 1977-04-01   0.027244    0.703788       5.000000   \n",
       "4            Canada 1977-04-01   0.023346    0.510302       7.666667   \n",
       "...             ...        ...        ...         ...            ...   \n",
       "2166          Italy 2023-01-01   0.003938    0.552944       3.000000   \n",
       "2167         Canada 2023-01-01   0.006080    0.610026       4.500000   \n",
       "2168         Sweden 2023-01-01   0.014955    0.656897       2.833333   \n",
       "2169          Korea 2023-01-01   0.010538    0.329875       3.500000   \n",
       "2170   South Africa 2023-01-01   0.011202    0.406619       7.416667   \n",
       "\n",
       "      unemployment_rate  commodity_CRUDE_PETRO  commodity_iNATGAS  \\\n",
       "0                   2.3                0.00000           0.052425   \n",
       "1                   8.8                0.00000           0.052425   \n",
       "2                   8.2                0.00000           0.052425   \n",
       "3                   2.0               -0.00400           0.043586   \n",
       "4                   8.0               -0.00400           0.043586   \n",
       "...                 ...                    ...                ...   \n",
       "2166                8.3               -0.02041          -0.585458   \n",
       "2167                5.4               -0.02041          -0.585458   \n",
       "2168                7.8               -0.02041          -0.585458   \n",
       "2169                3.2               -0.02041          -0.585458   \n",
       "2170               28.1               -0.02041          -0.585458   \n",
       "\n",
       "      commodity_iAGRICULTURE  commodity_iMETMIN  commodity_iPRECIOUSMET  \n",
       "0                   0.144757           0.041940                0.112740  \n",
       "1                   0.144757           0.041940                0.112740  \n",
       "2                   0.144757           0.041940                0.112740  \n",
       "3                  -0.066688          -0.045412               -0.060029  \n",
       "4                  -0.066688          -0.045412               -0.060029  \n",
       "...                      ...                ...                     ...  \n",
       "2166                0.002037           0.007418                0.043183  \n",
       "2167                0.002037           0.007418                0.043183  \n",
       "2168                0.002037           0.007418                0.043183  \n",
       "2169                0.002037           0.007418                0.043183  \n",
       "2170                0.002037           0.007418                0.043183  \n",
       "\n",
       "[2171 rows x 11 columns]"
      ]
     },
     "execution_count": 85,
     "metadata": {},
     "output_type": "execute_result"
    }
   ],
   "source": [
    "df = read_merged().reset_index()\n",
    "df"
   ]
  },
  {
   "cell_type": "code",
   "execution_count": 86,
   "metadata": {},
   "outputs": [
    {
     "data": {
      "text/plain": [
       "<seminartools.models.distance_model.DistanceModel at 0x2748d03fc10>"
      ]
     },
     "execution_count": 86,
     "metadata": {},
     "output_type": "execute_result"
    }
   ],
   "source": [
    "distance_model = DistanceModel()\n",
    "distance_model"
   ]
  },
  {
   "cell_type": "code",
   "execution_count": 87,
   "metadata": {},
   "outputs": [
    {
     "name": "stderr",
     "output_type": "stream",
     "text": [
      "Creating regression coefficients: 100%|██████████| 1/1 [00:02<00:00,  2.26s/it]\n"
     ]
    },
    {
     "data": {
      "text/html": [
       "\n",
       "<style>\n",
       "    /* Turns off some styling */\n",
       "    progress {\n",
       "        /* gets rid of default border in Firefox and Opera. */\n",
       "        border: none;\n",
       "        /* Needs to be in here for Safari polyfill so background images work as expected. */\n",
       "        background-size: auto;\n",
       "    }\n",
       "    progress:not([value]), progress:not([value])::-webkit-progress-bar {\n",
       "        background: repeating-linear-gradient(45deg, #7e7e7e, #7e7e7e 10px, #5c5c5c 10px, #5c5c5c 20px);\n",
       "    }\n",
       "    .progress-bar-interrupted, .progress-bar-interrupted::-webkit-progress-bar {\n",
       "        background: #F44336;\n",
       "    }\n",
       "</style>\n"
      ],
      "text/plain": [
       "<IPython.core.display.HTML object>"
      ]
     },
     "metadata": {},
     "output_type": "display_data"
    },
    {
     "data": {
      "text/html": [
       "\n",
       "    <div>\n",
       "      <progress value='8000' class='' max='8000' style='width:300px; height:20px; vertical-align: middle;'></progress>\n",
       "      100.00% [8000/8000 00:06&lt;00:00  Sampling chains: 0, Divergences: 0]\n",
       "    </div>\n",
       "    "
      ],
      "text/plain": [
       "<IPython.core.display.HTML object>"
      ]
     },
     "metadata": {},
     "output_type": "display_data"
    }
   ],
   "source": [
    "distance_model.fit(df)"
   ]
  },
  {
   "cell_type": "code",
   "execution_count": 88,
   "metadata": {},
   "outputs": [],
   "source": [
    "preds_dist = distance_model.predict(df, aggregation_method=\"distribution\")"
   ]
  },
  {
   "cell_type": "code",
   "execution_count": 89,
   "metadata": {},
   "outputs": [
    {
     "name": "stdout",
     "output_type": "stream",
     "text": [
      "0.9999999999999999\n"
     ]
    },
    {
     "name": "stderr",
     "output_type": "stream",
     "text": [
      "C:\\Users\\vandi\\AppData\\Local\\Temp\\ipykernel_9412\\980366153.py:3: DeprecationWarning: 'scipy.integrate.simps' is deprecated in favour of 'scipy.integrate.simpson' and will be removed in SciPy 1.14.0\n",
      "  print(simps(australia.inflation[\"pdf\"]))\n"
     ]
    }
   ],
   "source": [
    "from scipy.integrate import simps\n",
    "australia = preds_dist.iloc[0]\n",
    "print(simps(australia.inflation[\"pdf\"]))"
   ]
  },
  {
   "cell_type": "code",
   "execution_count": 90,
   "metadata": {},
   "outputs": [
    {
     "data": {
      "text/plain": [
       "(0.014001062138216466, 0.01692830934753002)"
      ]
     },
     "execution_count": 90,
     "metadata": {},
     "output_type": "execute_result"
    }
   ],
   "source": [
    "from seminartools.model_evaluation import get_95_interval\n",
    "interval = get_95_interval(australia.inflation[\"pdf\"], australia.inflation[\"inflation_grid\"])\n",
    "lower_bound = interval[0]\n",
    "upper_bound = interval[1]\n",
    "\n",
    "lower_bound, upper_bound\n"
   ]
  },
  {
   "cell_type": "code",
   "execution_count": 97,
   "metadata": {},
   "outputs": [
    {
     "name": "stderr",
     "output_type": "stream",
     "text": [
      "Splits: 100%|██████████| 5/5 [00:00<00:00, 148.38it/s]\n"
     ]
    },
    {
     "ename": "TypeError",
     "evalue": "DistanceModel.fit() got an unexpected keyword argument 'pointwise_aggregation_method'",
     "output_type": "error",
     "traceback": [
      "\u001b[1;31m---------------------------------------------------------------------------\u001b[0m",
      "\u001b[1;31m_RemoteTraceback\u001b[0m                          Traceback (most recent call last)",
      "\u001b[1;31m_RemoteTraceback\u001b[0m: \n\"\"\"\nTraceback (most recent call last):\n  File \"c:\\Users\\vandi\\AppData\\Local\\anaconda3\\envs\\py311\\Lib\\site-packages\\joblib\\externals\\loky\\process_executor.py\", line 463, in _process_worker\n    r = call_item()\n        ^^^^^^^^^^^\n  File \"c:\\Users\\vandi\\AppData\\Local\\anaconda3\\envs\\py311\\Lib\\site-packages\\joblib\\externals\\loky\\process_executor.py\", line 291, in __call__\n    return self.fn(*self.args, **self.kwargs)\n           ^^^^^^^^^^^^^^^^^^^^^^^^^^^^^^^^^^\n  File \"c:\\Users\\vandi\\AppData\\Local\\anaconda3\\envs\\py311\\Lib\\site-packages\\joblib\\parallel.py\", line 589, in __call__\n    return [func(*args, **kwargs)\n           ^^^^^^^^^^^^^^^^^^^^^^\n  File \"c:\\Users\\vandi\\AppData\\Local\\anaconda3\\envs\\py311\\Lib\\site-packages\\joblib\\parallel.py\", line 589, in <listcomp>\n    return [func(*args, **kwargs)\n            ^^^^^^^^^^^^^^^^^^^^^\n  File \"c:\\users\\vandi\\onedrive\\documenten\\github\\seminar\\seminartools\\models\\utils.py\", line 103, in worker\n    model.fit(train_df, pointwise_aggregation_method = \"distribution\")\nTypeError: DistanceModel.fit() got an unexpected keyword argument 'pointwise_aggregation_method'\n\"\"\"",
      "\nThe above exception was the direct cause of the following exception:\n",
      "\u001b[1;31mTypeError\u001b[0m                                 Traceback (most recent call last)",
      "Cell \u001b[1;32mIn[97], line 7\u001b[0m\n\u001b[0;32m      4\u001b[0m model \u001b[38;5;241m=\u001b[39m DistanceModel()\n\u001b[0;32m      6\u001b[0m tss \u001b[38;5;241m=\u001b[39m ExpandingWindowSplit(start_date \u001b[38;5;241m=\u001b[39m \u001b[38;5;124m\"\u001b[39m\u001b[38;5;124m2000-01-01\u001b[39m\u001b[38;5;124m\"\u001b[39m)\n\u001b[1;32m----> 7\u001b[0m preds \u001b[38;5;241m=\u001b[39m \u001b[43mmake_oos_predictions\u001b[49m\u001b[43m(\u001b[49m\u001b[38;5;28;43;01mlambda\u001b[39;49;00m\u001b[43m:\u001b[49m\u001b[43m \u001b[49m\u001b[43mDistanceModel\u001b[49m\u001b[43m(\u001b[49m\u001b[43m)\u001b[49m\u001b[43m,\u001b[49m\u001b[43m \u001b[49m\u001b[43mdf\u001b[49m\u001b[43m,\u001b[49m\u001b[43m \u001b[49m\u001b[43mtss\u001b[49m\u001b[43m,\u001b[49m\u001b[43m \u001b[49m\u001b[43mprogress\u001b[49m\u001b[43m \u001b[49m\u001b[38;5;241;43m=\u001b[39;49m\u001b[43m \u001b[49m\u001b[38;5;28;43;01mTrue\u001b[39;49;00m\u001b[43m,\u001b[49m\u001b[43m \u001b[49m\u001b[43mnum_cores\u001b[49m\u001b[43m \u001b[49m\u001b[38;5;241;43m=\u001b[39;49m\u001b[43m \u001b[49m\u001b[38;5;241;43m5\u001b[39;49m\u001b[43m,\u001b[49m\u001b[43m \u001b[49m\u001b[43mdensity\u001b[49m\u001b[43m \u001b[49m\u001b[38;5;241;43m=\u001b[39;49m\u001b[43m \u001b[49m\u001b[38;5;28;43;01mTrue\u001b[39;49;00m\u001b[43m)\u001b[49m\n",
      "File \u001b[1;32mc:\\users\\vandi\\onedrive\\documenten\\github\\seminar\\seminartools\\models\\utils.py:112\u001b[0m, in \u001b[0;36mmake_oos_predictions\u001b[1;34m(model_generator, data, retrain_time_series_split, h, progress, num_cores, density)\u001b[0m\n\u001b[0;32m    108\u001b[0m     \u001b[38;5;28;01mreturn\u001b[39;00m predictions\n\u001b[0;32m    110\u001b[0m \u001b[38;5;66;03m# return pd.concat(acc, ignore_index=True)\u001b[39;00m\n\u001b[0;32m    111\u001b[0m \u001b[38;5;28;01mreturn\u001b[39;00m pd\u001b[38;5;241m.\u001b[39mconcat(\n\u001b[1;32m--> 112\u001b[0m     \u001b[43mParallel\u001b[49m\u001b[43m(\u001b[49m\u001b[43mn_jobs\u001b[49m\u001b[38;5;241;43m=\u001b[39;49m\u001b[43mnum_cores\u001b[49m\u001b[43m)\u001b[49m\u001b[43m(\u001b[49m\n\u001b[0;32m    113\u001b[0m \u001b[43m        \u001b[49m\u001b[43mdelayed\u001b[49m\u001b[43m(\u001b[49m\u001b[43mworker\u001b[49m\u001b[43m)\u001b[49m\u001b[43m(\u001b[49m\u001b[43mmodel_generator\u001b[49m\u001b[43m(\u001b[49m\u001b[43m)\u001b[49m\u001b[43m,\u001b[49m\u001b[43m \u001b[49m\u001b[43mtrain_df\u001b[49m\u001b[43m,\u001b[49m\u001b[43m \u001b[49m\u001b[43mtest_df\u001b[49m\u001b[43m,\u001b[49m\u001b[43m \u001b[49m\u001b[43mtest_start_date\u001b[49m\u001b[43m)\u001b[49m\n\u001b[0;32m    114\u001b[0m \u001b[43m        \u001b[49m\u001b[38;5;28;43;01mfor\u001b[39;49;00m\u001b[43m \u001b[49m\u001b[43mtrain_df\u001b[49m\u001b[43m,\u001b[49m\u001b[43m \u001b[49m\u001b[43mtest_df\u001b[49m\u001b[43m,\u001b[49m\u001b[43m \u001b[49m\u001b[43mtest_start_date\u001b[49m\u001b[43m \u001b[49m\u001b[38;5;129;43;01min\u001b[39;49;00m\u001b[43m \u001b[49m\u001b[43miterator\u001b[49m\n\u001b[0;32m    115\u001b[0m \u001b[43m    \u001b[49m\u001b[43m)\u001b[49m\n\u001b[0;32m    116\u001b[0m     \u001b[38;5;28;01mif\u001b[39;00m num_cores \u001b[38;5;241m>\u001b[39m \u001b[38;5;241m1\u001b[39m\n\u001b[0;32m    117\u001b[0m     \u001b[38;5;28;01melse\u001b[39;00m [\n\u001b[0;32m    118\u001b[0m         worker(model_generator(), train_df, test_df, test_start_date)\n\u001b[0;32m    119\u001b[0m         \u001b[38;5;28;01mfor\u001b[39;00m train_df, test_df, test_start_date \u001b[38;5;129;01min\u001b[39;00m iterator\n\u001b[0;32m    120\u001b[0m     ],\n\u001b[0;32m    121\u001b[0m     ignore_index\u001b[38;5;241m=\u001b[39m\u001b[38;5;28;01mTrue\u001b[39;00m,\n\u001b[0;32m    122\u001b[0m )\n",
      "File \u001b[1;32mc:\\Users\\vandi\\AppData\\Local\\anaconda3\\envs\\py311\\Lib\\site-packages\\joblib\\parallel.py:1952\u001b[0m, in \u001b[0;36mParallel.__call__\u001b[1;34m(self, iterable)\u001b[0m\n\u001b[0;32m   1946\u001b[0m \u001b[38;5;66;03m# The first item from the output is blank, but it makes the interpreter\u001b[39;00m\n\u001b[0;32m   1947\u001b[0m \u001b[38;5;66;03m# progress until it enters the Try/Except block of the generator and\u001b[39;00m\n\u001b[0;32m   1948\u001b[0m \u001b[38;5;66;03m# reach the first `yield` statement. This starts the aynchronous\u001b[39;00m\n\u001b[0;32m   1949\u001b[0m \u001b[38;5;66;03m# dispatch of the tasks to the workers.\u001b[39;00m\n\u001b[0;32m   1950\u001b[0m \u001b[38;5;28mnext\u001b[39m(output)\n\u001b[1;32m-> 1952\u001b[0m \u001b[38;5;28;01mreturn\u001b[39;00m output \u001b[38;5;28;01mif\u001b[39;00m \u001b[38;5;28mself\u001b[39m\u001b[38;5;241m.\u001b[39mreturn_generator \u001b[38;5;28;01melse\u001b[39;00m \u001b[38;5;28;43mlist\u001b[39;49m\u001b[43m(\u001b[49m\u001b[43moutput\u001b[49m\u001b[43m)\u001b[49m\n",
      "File \u001b[1;32mc:\\Users\\vandi\\AppData\\Local\\anaconda3\\envs\\py311\\Lib\\site-packages\\joblib\\parallel.py:1595\u001b[0m, in \u001b[0;36mParallel._get_outputs\u001b[1;34m(self, iterator, pre_dispatch)\u001b[0m\n\u001b[0;32m   1592\u001b[0m     \u001b[38;5;28;01myield\u001b[39;00m\n\u001b[0;32m   1594\u001b[0m     \u001b[38;5;28;01mwith\u001b[39;00m \u001b[38;5;28mself\u001b[39m\u001b[38;5;241m.\u001b[39m_backend\u001b[38;5;241m.\u001b[39mretrieval_context():\n\u001b[1;32m-> 1595\u001b[0m         \u001b[38;5;28;01myield from\u001b[39;00m \u001b[38;5;28mself\u001b[39m\u001b[38;5;241m.\u001b[39m_retrieve()\n\u001b[0;32m   1597\u001b[0m \u001b[38;5;28;01mexcept\u001b[39;00m \u001b[38;5;167;01mGeneratorExit\u001b[39;00m:\n\u001b[0;32m   1598\u001b[0m     \u001b[38;5;66;03m# The generator has been garbage collected before being fully\u001b[39;00m\n\u001b[0;32m   1599\u001b[0m     \u001b[38;5;66;03m# consumed. This aborts the remaining tasks if possible and warn\u001b[39;00m\n\u001b[0;32m   1600\u001b[0m     \u001b[38;5;66;03m# the user if necessary.\u001b[39;00m\n\u001b[0;32m   1601\u001b[0m     \u001b[38;5;28mself\u001b[39m\u001b[38;5;241m.\u001b[39m_exception \u001b[38;5;241m=\u001b[39m \u001b[38;5;28;01mTrue\u001b[39;00m\n",
      "File \u001b[1;32mc:\\Users\\vandi\\AppData\\Local\\anaconda3\\envs\\py311\\Lib\\site-packages\\joblib\\parallel.py:1699\u001b[0m, in \u001b[0;36mParallel._retrieve\u001b[1;34m(self)\u001b[0m\n\u001b[0;32m   1692\u001b[0m \u001b[38;5;28;01mwhile\u001b[39;00m \u001b[38;5;28mself\u001b[39m\u001b[38;5;241m.\u001b[39m_wait_retrieval():\n\u001b[0;32m   1693\u001b[0m \n\u001b[0;32m   1694\u001b[0m     \u001b[38;5;66;03m# If the callback thread of a worker has signaled that its task\u001b[39;00m\n\u001b[0;32m   1695\u001b[0m     \u001b[38;5;66;03m# triggered an exception, or if the retrieval loop has raised an\u001b[39;00m\n\u001b[0;32m   1696\u001b[0m     \u001b[38;5;66;03m# exception (e.g. `GeneratorExit`), exit the loop and surface the\u001b[39;00m\n\u001b[0;32m   1697\u001b[0m     \u001b[38;5;66;03m# worker traceback.\u001b[39;00m\n\u001b[0;32m   1698\u001b[0m     \u001b[38;5;28;01mif\u001b[39;00m \u001b[38;5;28mself\u001b[39m\u001b[38;5;241m.\u001b[39m_aborting:\n\u001b[1;32m-> 1699\u001b[0m         \u001b[38;5;28;43mself\u001b[39;49m\u001b[38;5;241;43m.\u001b[39;49m\u001b[43m_raise_error_fast\u001b[49m\u001b[43m(\u001b[49m\u001b[43m)\u001b[49m\n\u001b[0;32m   1700\u001b[0m         \u001b[38;5;28;01mbreak\u001b[39;00m\n\u001b[0;32m   1702\u001b[0m     \u001b[38;5;66;03m# If the next job is not ready for retrieval yet, we just wait for\u001b[39;00m\n\u001b[0;32m   1703\u001b[0m     \u001b[38;5;66;03m# async callbacks to progress.\u001b[39;00m\n",
      "File \u001b[1;32mc:\\Users\\vandi\\AppData\\Local\\anaconda3\\envs\\py311\\Lib\\site-packages\\joblib\\parallel.py:1734\u001b[0m, in \u001b[0;36mParallel._raise_error_fast\u001b[1;34m(self)\u001b[0m\n\u001b[0;32m   1730\u001b[0m \u001b[38;5;66;03m# If this error job exists, immediatly raise the error by\u001b[39;00m\n\u001b[0;32m   1731\u001b[0m \u001b[38;5;66;03m# calling get_result. This job might not exists if abort has been\u001b[39;00m\n\u001b[0;32m   1732\u001b[0m \u001b[38;5;66;03m# called directly or if the generator is gc'ed.\u001b[39;00m\n\u001b[0;32m   1733\u001b[0m \u001b[38;5;28;01mif\u001b[39;00m error_job \u001b[38;5;129;01mis\u001b[39;00m \u001b[38;5;129;01mnot\u001b[39;00m \u001b[38;5;28;01mNone\u001b[39;00m:\n\u001b[1;32m-> 1734\u001b[0m     \u001b[43merror_job\u001b[49m\u001b[38;5;241;43m.\u001b[39;49m\u001b[43mget_result\u001b[49m\u001b[43m(\u001b[49m\u001b[38;5;28;43mself\u001b[39;49m\u001b[38;5;241;43m.\u001b[39;49m\u001b[43mtimeout\u001b[49m\u001b[43m)\u001b[49m\n",
      "File \u001b[1;32mc:\\Users\\vandi\\AppData\\Local\\anaconda3\\envs\\py311\\Lib\\site-packages\\joblib\\parallel.py:736\u001b[0m, in \u001b[0;36mBatchCompletionCallBack.get_result\u001b[1;34m(self, timeout)\u001b[0m\n\u001b[0;32m    730\u001b[0m backend \u001b[38;5;241m=\u001b[39m \u001b[38;5;28mself\u001b[39m\u001b[38;5;241m.\u001b[39mparallel\u001b[38;5;241m.\u001b[39m_backend\n\u001b[0;32m    732\u001b[0m \u001b[38;5;28;01mif\u001b[39;00m backend\u001b[38;5;241m.\u001b[39msupports_retrieve_callback:\n\u001b[0;32m    733\u001b[0m     \u001b[38;5;66;03m# We assume that the result has already been retrieved by the\u001b[39;00m\n\u001b[0;32m    734\u001b[0m     \u001b[38;5;66;03m# callback thread, and is stored internally. It's just waiting to\u001b[39;00m\n\u001b[0;32m    735\u001b[0m     \u001b[38;5;66;03m# be returned.\u001b[39;00m\n\u001b[1;32m--> 736\u001b[0m     \u001b[38;5;28;01mreturn\u001b[39;00m \u001b[38;5;28;43mself\u001b[39;49m\u001b[38;5;241;43m.\u001b[39;49m\u001b[43m_return_or_raise\u001b[49m\u001b[43m(\u001b[49m\u001b[43m)\u001b[49m\n\u001b[0;32m    738\u001b[0m \u001b[38;5;66;03m# For other backends, the main thread needs to run the retrieval step.\u001b[39;00m\n\u001b[0;32m    739\u001b[0m \u001b[38;5;28;01mtry\u001b[39;00m:\n",
      "File \u001b[1;32mc:\\Users\\vandi\\AppData\\Local\\anaconda3\\envs\\py311\\Lib\\site-packages\\joblib\\parallel.py:754\u001b[0m, in \u001b[0;36mBatchCompletionCallBack._return_or_raise\u001b[1;34m(self)\u001b[0m\n\u001b[0;32m    752\u001b[0m \u001b[38;5;28;01mtry\u001b[39;00m:\n\u001b[0;32m    753\u001b[0m     \u001b[38;5;28;01mif\u001b[39;00m \u001b[38;5;28mself\u001b[39m\u001b[38;5;241m.\u001b[39mstatus \u001b[38;5;241m==\u001b[39m TASK_ERROR:\n\u001b[1;32m--> 754\u001b[0m         \u001b[38;5;28;01mraise\u001b[39;00m \u001b[38;5;28mself\u001b[39m\u001b[38;5;241m.\u001b[39m_result\n\u001b[0;32m    755\u001b[0m     \u001b[38;5;28;01mreturn\u001b[39;00m \u001b[38;5;28mself\u001b[39m\u001b[38;5;241m.\u001b[39m_result\n\u001b[0;32m    756\u001b[0m \u001b[38;5;28;01mfinally\u001b[39;00m:\n",
      "\u001b[1;31mTypeError\u001b[0m: DistanceModel.fit() got an unexpected keyword argument 'pointwise_aggregation_method'"
     ]
    }
   ],
   "source": [
    "from seminartools.models.utils import make_oos_predictions\n",
    "from seminartools.time_series_split import ExpandingWindowSplit\n",
    "\n",
    "model = DistanceModel()\n",
    "\n",
    "tss = ExpandingWindowSplit(start_date = \"2000-01-01\")\n",
    "preds = make_oos_predictions(lambda: DistanceModel(), df, tss, progress = True, num_cores = 5, density = True)\n"
   ]
  },
  {
   "cell_type": "code",
   "execution_count": 82,
   "metadata": {},
   "outputs": [
    {
     "ename": "NameError",
     "evalue": "name 'np' is not defined",
     "output_type": "error",
     "traceback": [
      "\u001b[1;31m---------------------------------------------------------------------------\u001b[0m",
      "\u001b[1;31mNameError\u001b[0m                                 Traceback (most recent call last)",
      "Cell \u001b[1;32mIn[82], line 1\u001b[0m\n\u001b[1;32m----> 1\u001b[0m in_interval \u001b[38;5;241m=\u001b[39m \u001b[43mnp\u001b[49m\u001b[38;5;241m.\u001b[39mlogical_and(inflation \u001b[38;5;241m>\u001b[39m\u001b[38;5;241m=\u001b[39m lower_bound, inflation \u001b[38;5;241m<\u001b[39m\u001b[38;5;241m=\u001b[39m upper_bound)\n",
      "\u001b[1;31mNameError\u001b[0m: name 'np' is not defined"
     ]
    }
   ],
   "source": [
    "in_interval = np.logical_and(inflation >= lower_bound, inflation <= upper_bound)\n"
   ]
  }
 ],
 "metadata": {
  "kernelspec": {
   "display_name": "py311",
   "language": "python",
   "name": "python3"
  },
  "language_info": {
   "codemirror_mode": {
    "name": "ipython",
    "version": 3
   },
   "file_extension": ".py",
   "mimetype": "text/x-python",
   "name": "python",
   "nbconvert_exporter": "python",
   "pygments_lexer": "ipython3",
   "version": "3.11.8"
  }
 },
 "nbformat": 4,
 "nbformat_minor": 2
}
